{
  "nbformat": 4,
  "nbformat_minor": 0,
  "metadata": {
    "colab": {
      "name": "NLP Objective 1 Part 1.ipynb",
      "version": "0.3.2",
      "provenance": []
    },
    "kernelspec": {
      "name": "python3",
      "display_name": "Python 3"
    }
  },
  "cells": [
    {
      "cell_type": "markdown",
      "metadata": {
        "id": "view-in-github",
        "colab_type": "text"
      },
      "source": [
        "[View in Colaboratory](https://colab.research.google.com/github/schwaaweb/aimlds1_11-NLP/blob/master/M11_CCS0--AG--NLP_Objective_1_Part_1.ipynb)"
      ]
    },
    {
      "metadata": {
        "id": "b-y9l5SxPLKQ",
        "colab_type": "text"
      },
      "cell_type": "markdown",
      "source": [
        "### Objectives:\n",
        "\n",
        "1) Get acquainted with the basics of NLP\n",
        "\n",
        "2) Compare documents or words\n",
        "\n",
        "3) Diagnose word similarity using Word2vec\n",
        "\n",
        "4) Conduct Sentiment Analysis"
      ]
    },
    {
      "metadata": {
        "id": "WqYsmceKWs-A",
        "colab_type": "text"
      },
      "cell_type": "markdown",
      "source": [
        "### Objective 1: Get acquainted with the basics of NLP"
      ]
    },
    {
      "metadata": {
        "id": "-wtFbu1zQOZ0",
        "colab_type": "text"
      },
      "cell_type": "markdown",
      "source": [
        "**Introduction - Natural Language Processing**\n",
        "\n",
        "Natural Language Processing (NLP) is experiencing significant growth; it is being used everywhere from search engines to voice interfaces such as Amazon Alexa or Siri and is increasingly playing a central role in our daily lives. \n",
        "\n",
        "In this session on NLP, we will cover a number of key concepts including a) Tokenization b) Analyzing Sentence Structures c) Information Extraction and Text Classification  d) Sentiment Analysis and e) Building a Custom Corpora\n",
        "\n",
        "As we step through the different topics, we will make use of Natural Language Toolkit (NLTK) and spacy to get hands-on with text processing. **NLTK** and **spacy** (a more recent introduction) are comprehensive Python libraries for natural language processing and text mining/analytics. \n",
        "\n",
        "Some terms that you need to be aware of:\n",
        "\n",
        "Corpus (singular) – is a body of text. The plural of the term is Corpora. An example is a collection of architectural journals.\n",
        "\n",
        "Lexicon comprises of words and their meanings. Various fields will have different lexicons. There is a lexicon for doctors, financial professional, mechanics, etc.\n",
        "\n"
      ]
    },
    {
      "metadata": {
        "id": "8tP1FzNFRn0n",
        "colab_type": "text"
      },
      "cell_type": "markdown",
      "source": [
        "### Tokenize a body of text\n",
        "\n",
        "A document is comprised of sentences and sentences are made up of words. The first thing you want to do when you receive a document is break the document into a number of pieces such as sentences, words and punctuation marks. The process of decomposing a document into its constituent parts is called Tokenization.  \n",
        "\n",
        "In text processing, we start off by making sense of the smallest or most granular units (i.e. words) and then progressively (as needed) work our way up the hierarchy to decipher the sentence, paragraph, document and the corpus.\n",
        "\n",
        "The following tokenizers are often used:\n",
        "\n",
        "1) Sentence Tokenizer - breaks the body of text into sentences\n",
        "\n",
        "2) Line Tokenizer - breaks the body of text into lines\n",
        "\n",
        "3) Space Tokenizer - splits the body of text based on the space character\n",
        "\n",
        "4) Tweet Tokenizer - Since tweets contain special characters, special words, hashtags, and emojis, there is a special \n",
        "tokenizer i.e. TweetTokenizer that can be leveraged when dealing with tweets which contain special strings \n",
        "\n",
        "5) Word Tokenizer - It operates similar to the Space Tokenizer but breaks up the words and punctuation marks"
      ]
    },
    {
      "metadata": {
        "id": "Exy27KTQTCNI",
        "colab_type": "code",
        "colab": {
          "base_uri": "https://localhost:8080/",
          "height": 268
        },
        "outputId": "53ce91d1-c9cc-4927-e7ef-a5b8ba64e473"
      },
      "cell_type": "code",
      "source": [
        "# Installing NLTK\n",
        "# Reference: http://www.nltk.org/install.html\n",
        "!pip install -U nltk"
      ],
      "execution_count": 1,
      "outputs": [
        {
          "output_type": "stream",
          "text": [
            "Collecting nltk\n",
            "\u001b[?25l  Downloading https://files.pythonhosted.org/packages/50/09/3b1755d528ad9156ee7243d52aa5cd2b809ef053a0f31b53d92853dd653a/nltk-3.3.0.zip (1.4MB)\n",
            "\u001b[K    100% |████████████████████████████████| 1.4MB 6.4MB/s \n",
            "\u001b[?25hRequirement not upgraded as not directly required: six in /usr/local/lib/python3.6/dist-packages (from nltk) (1.11.0)\n",
            "Building wheels for collected packages: nltk\n",
            "  Running setup.py bdist_wheel for nltk ... \u001b[?25l-\b \b\\\b \b|\b \b/\b \b-\b \bdone\n",
            "\u001b[?25h  Stored in directory: /content/.cache/pip/wheels/d1/ab/40/3bceea46922767e42986aef7606a600538ca80de6062dc266c\n",
            "Successfully built nltk\n",
            "Installing collected packages: nltk\n",
            "  Found existing installation: nltk 3.2.5\n",
            "    Uninstalling nltk-3.2.5:\n",
            "      Successfully uninstalled nltk-3.2.5\n",
            "Successfully installed nltk-3.3\n"
          ],
          "name": "stdout"
        }
      ]
    },
    {
      "metadata": {
        "id": "5aMoMfqfTfjg",
        "colab_type": "code",
        "colab": {
          "base_uri": "https://localhost:8080/",
          "height": 4872
        },
        "outputId": "371ad688-a51a-463b-b71e-3cf3b0ea34f1"
      },
      "cell_type": "code",
      "source": [
        "# Import the NLTK package\n",
        "import nltk\n",
        "\n",
        "# Get all the data associated with NLTK – could take a while to download all the data\n",
        "nltk.download('all')\n",
        "\n",
        "# Import the relevant packages\n",
        "from nltk.tokenize import LineTokenizer, SpaceTokenizer, TweetTokenizer\n",
        "from nltk import sent_tokenize, word_tokenize"
      ],
      "execution_count": 2,
      "outputs": [
        {
          "output_type": "stream",
          "text": [
            "[nltk_data] Downloading collection 'all'\n",
            "[nltk_data]    | \n",
            "[nltk_data]    | Downloading package abc to /content/nltk_data...\n",
            "[nltk_data]    |   Package abc is already up-to-date!\n",
            "[nltk_data]    | Downloading package alpino to /content/nltk_data...\n",
            "[nltk_data]    |   Package alpino is already up-to-date!\n",
            "[nltk_data]    | Downloading package biocreative_ppi to\n",
            "[nltk_data]    |     /content/nltk_data...\n",
            "[nltk_data]    |   Package biocreative_ppi is already up-to-date!\n",
            "[nltk_data]    | Downloading package brown to /content/nltk_data...\n",
            "[nltk_data]    |   Package brown is already up-to-date!\n",
            "[nltk_data]    | Downloading package brown_tei to\n",
            "[nltk_data]    |     /content/nltk_data...\n",
            "[nltk_data]    |   Package brown_tei is already up-to-date!\n",
            "[nltk_data]    | Downloading package cess_cat to /content/nltk_data...\n",
            "[nltk_data]    |   Package cess_cat is already up-to-date!\n",
            "[nltk_data]    | Downloading package cess_esp to /content/nltk_data...\n",
            "[nltk_data]    |   Package cess_esp is already up-to-date!\n",
            "[nltk_data]    | Downloading package chat80 to /content/nltk_data...\n",
            "[nltk_data]    |   Package chat80 is already up-to-date!\n",
            "[nltk_data]    | Downloading package city_database to\n",
            "[nltk_data]    |     /content/nltk_data...\n",
            "[nltk_data]    |   Package city_database is already up-to-date!\n",
            "[nltk_data]    | Downloading package cmudict to /content/nltk_data...\n",
            "[nltk_data]    |   Package cmudict is already up-to-date!\n",
            "[nltk_data]    | Downloading package comparative_sentences to\n",
            "[nltk_data]    |     /content/nltk_data...\n",
            "[nltk_data]    |   Package comparative_sentences is already up-to-\n",
            "[nltk_data]    |       date!\n",
            "[nltk_data]    | Downloading package comtrans to /content/nltk_data...\n",
            "[nltk_data]    |   Package comtrans is already up-to-date!\n",
            "[nltk_data]    | Downloading package conll2000 to\n",
            "[nltk_data]    |     /content/nltk_data...\n",
            "[nltk_data]    |   Package conll2000 is already up-to-date!\n",
            "[nltk_data]    | Downloading package conll2002 to\n",
            "[nltk_data]    |     /content/nltk_data...\n",
            "[nltk_data]    |   Package conll2002 is already up-to-date!\n",
            "[nltk_data]    | Downloading package conll2007 to\n",
            "[nltk_data]    |     /content/nltk_data...\n",
            "[nltk_data]    |   Package conll2007 is already up-to-date!\n",
            "[nltk_data]    | Downloading package crubadan to /content/nltk_data...\n",
            "[nltk_data]    |   Package crubadan is already up-to-date!\n",
            "[nltk_data]    | Downloading package dependency_treebank to\n",
            "[nltk_data]    |     /content/nltk_data...\n",
            "[nltk_data]    |   Package dependency_treebank is already up-to-date!\n",
            "[nltk_data]    | Downloading package dolch to /content/nltk_data...\n",
            "[nltk_data]    |   Package dolch is already up-to-date!\n",
            "[nltk_data]    | Downloading package europarl_raw to\n",
            "[nltk_data]    |     /content/nltk_data...\n",
            "[nltk_data]    |   Package europarl_raw is already up-to-date!\n",
            "[nltk_data]    | Downloading package floresta to /content/nltk_data...\n",
            "[nltk_data]    |   Package floresta is already up-to-date!\n",
            "[nltk_data]    | Downloading package framenet_v15 to\n",
            "[nltk_data]    |     /content/nltk_data...\n",
            "[nltk_data]    |   Package framenet_v15 is already up-to-date!\n",
            "[nltk_data]    | Downloading package framenet_v17 to\n",
            "[nltk_data]    |     /content/nltk_data...\n",
            "[nltk_data]    |   Package framenet_v17 is already up-to-date!\n",
            "[nltk_data]    | Downloading package gazetteers to\n",
            "[nltk_data]    |     /content/nltk_data...\n",
            "[nltk_data]    |   Package gazetteers is already up-to-date!\n",
            "[nltk_data]    | Downloading package genesis to /content/nltk_data...\n",
            "[nltk_data]    |   Package genesis is already up-to-date!\n",
            "[nltk_data]    | Downloading package gutenberg to\n",
            "[nltk_data]    |     /content/nltk_data...\n",
            "[nltk_data]    |   Package gutenberg is already up-to-date!\n",
            "[nltk_data]    | Downloading package ieer to /content/nltk_data...\n",
            "[nltk_data]    |   Package ieer is already up-to-date!\n",
            "[nltk_data]    | Downloading package inaugural to\n",
            "[nltk_data]    |     /content/nltk_data...\n",
            "[nltk_data]    |   Package inaugural is already up-to-date!\n",
            "[nltk_data]    | Downloading package indian to /content/nltk_data...\n",
            "[nltk_data]    |   Package indian is already up-to-date!\n",
            "[nltk_data]    | Downloading package jeita to /content/nltk_data...\n",
            "[nltk_data]    |   Package jeita is already up-to-date!\n",
            "[nltk_data]    | Downloading package kimmo to /content/nltk_data...\n",
            "[nltk_data]    |   Package kimmo is already up-to-date!\n",
            "[nltk_data]    | Downloading package knbc to /content/nltk_data...\n",
            "[nltk_data]    |   Package knbc is already up-to-date!\n",
            "[nltk_data]    | Downloading package lin_thesaurus to\n",
            "[nltk_data]    |     /content/nltk_data...\n",
            "[nltk_data]    |   Package lin_thesaurus is already up-to-date!\n",
            "[nltk_data]    | Downloading package mac_morpho to\n",
            "[nltk_data]    |     /content/nltk_data...\n",
            "[nltk_data]    |   Package mac_morpho is already up-to-date!\n",
            "[nltk_data]    | Downloading package machado to /content/nltk_data...\n",
            "[nltk_data]    |   Package machado is already up-to-date!\n",
            "[nltk_data]    | Downloading package masc_tagged to\n",
            "[nltk_data]    |     /content/nltk_data...\n",
            "[nltk_data]    |   Package masc_tagged is already up-to-date!\n",
            "[nltk_data]    | Downloading package moses_sample to\n",
            "[nltk_data]    |     /content/nltk_data...\n",
            "[nltk_data]    |   Package moses_sample is already up-to-date!\n",
            "[nltk_data]    | Downloading package movie_reviews to\n",
            "[nltk_data]    |     /content/nltk_data...\n",
            "[nltk_data]    |   Package movie_reviews is already up-to-date!\n",
            "[nltk_data]    | Downloading package names to /content/nltk_data...\n",
            "[nltk_data]    |   Package names is already up-to-date!\n",
            "[nltk_data]    | Downloading package nombank.1.0 to\n",
            "[nltk_data]    |     /content/nltk_data...\n",
            "[nltk_data]    |   Package nombank.1.0 is already up-to-date!\n",
            "[nltk_data]    | Downloading package nps_chat to /content/nltk_data...\n",
            "[nltk_data]    |   Package nps_chat is already up-to-date!\n",
            "[nltk_data]    | Downloading package omw to /content/nltk_data...\n",
            "[nltk_data]    |   Package omw is already up-to-date!\n",
            "[nltk_data]    | Downloading package opinion_lexicon to\n",
            "[nltk_data]    |     /content/nltk_data...\n",
            "[nltk_data]    |   Package opinion_lexicon is already up-to-date!\n",
            "[nltk_data]    | Downloading package paradigms to\n",
            "[nltk_data]    |     /content/nltk_data...\n",
            "[nltk_data]    |   Package paradigms is already up-to-date!\n",
            "[nltk_data]    | Downloading package pil to /content/nltk_data...\n",
            "[nltk_data]    |   Package pil is already up-to-date!\n",
            "[nltk_data]    | Downloading package pl196x to /content/nltk_data...\n",
            "[nltk_data]    |   Package pl196x is already up-to-date!\n",
            "[nltk_data]    | Downloading package ppattach to /content/nltk_data...\n",
            "[nltk_data]    |   Package ppattach is already up-to-date!\n",
            "[nltk_data]    | Downloading package problem_reports to\n",
            "[nltk_data]    |     /content/nltk_data...\n",
            "[nltk_data]    |   Package problem_reports is already up-to-date!\n",
            "[nltk_data]    | Downloading package propbank to /content/nltk_data...\n",
            "[nltk_data]    |   Package propbank is already up-to-date!\n",
            "[nltk_data]    | Downloading package ptb to /content/nltk_data...\n",
            "[nltk_data]    |   Package ptb is already up-to-date!\n",
            "[nltk_data]    | Downloading package product_reviews_1 to\n",
            "[nltk_data]    |     /content/nltk_data...\n",
            "[nltk_data]    |   Package product_reviews_1 is already up-to-date!\n",
            "[nltk_data]    | Downloading package product_reviews_2 to\n",
            "[nltk_data]    |     /content/nltk_data...\n",
            "[nltk_data]    |   Package product_reviews_2 is already up-to-date!\n",
            "[nltk_data]    | Downloading package pros_cons to\n",
            "[nltk_data]    |     /content/nltk_data...\n",
            "[nltk_data]    |   Package pros_cons is already up-to-date!\n",
            "[nltk_data]    | Downloading package qc to /content/nltk_data...\n",
            "[nltk_data]    |   Package qc is already up-to-date!\n",
            "[nltk_data]    | Downloading package reuters to /content/nltk_data...\n",
            "[nltk_data]    |   Package reuters is already up-to-date!\n",
            "[nltk_data]    | Downloading package rte to /content/nltk_data...\n",
            "[nltk_data]    |   Package rte is already up-to-date!\n",
            "[nltk_data]    | Downloading package semcor to /content/nltk_data...\n",
            "[nltk_data]    |   Package semcor is already up-to-date!\n",
            "[nltk_data]    | Downloading package senseval to /content/nltk_data...\n",
            "[nltk_data]    |   Package senseval is already up-to-date!\n",
            "[nltk_data]    | Downloading package sentiwordnet to\n",
            "[nltk_data]    |     /content/nltk_data...\n",
            "[nltk_data]    |   Package sentiwordnet is already up-to-date!\n",
            "[nltk_data]    | Downloading package sentence_polarity to\n",
            "[nltk_data]    |     /content/nltk_data...\n",
            "[nltk_data]    |   Package sentence_polarity is already up-to-date!\n",
            "[nltk_data]    | Downloading package shakespeare to\n",
            "[nltk_data]    |     /content/nltk_data...\n",
            "[nltk_data]    |   Package shakespeare is already up-to-date!\n",
            "[nltk_data]    | Downloading package sinica_treebank to\n",
            "[nltk_data]    |     /content/nltk_data...\n",
            "[nltk_data]    |   Package sinica_treebank is already up-to-date!\n",
            "[nltk_data]    | Downloading package smultron to /content/nltk_data...\n",
            "[nltk_data]    |   Package smultron is already up-to-date!\n",
            "[nltk_data]    | Downloading package state_union to\n",
            "[nltk_data]    |     /content/nltk_data...\n",
            "[nltk_data]    |   Package state_union is already up-to-date!\n",
            "[nltk_data]    | Downloading package stopwords to\n",
            "[nltk_data]    |     /content/nltk_data...\n",
            "[nltk_data]    |   Package stopwords is already up-to-date!\n",
            "[nltk_data]    | Downloading package subjectivity to\n",
            "[nltk_data]    |     /content/nltk_data...\n",
            "[nltk_data]    |   Package subjectivity is already up-to-date!\n",
            "[nltk_data]    | Downloading package swadesh to /content/nltk_data...\n",
            "[nltk_data]    |   Package swadesh is already up-to-date!\n",
            "[nltk_data]    | Downloading package switchboard to\n",
            "[nltk_data]    |     /content/nltk_data...\n",
            "[nltk_data]    |   Package switchboard is already up-to-date!\n",
            "[nltk_data]    | Downloading package timit to /content/nltk_data...\n",
            "[nltk_data]    |   Package timit is already up-to-date!\n",
            "[nltk_data]    | Downloading package toolbox to /content/nltk_data...\n",
            "[nltk_data]    |   Package toolbox is already up-to-date!\n",
            "[nltk_data]    | Downloading package treebank to /content/nltk_data...\n",
            "[nltk_data]    |   Package treebank is already up-to-date!\n",
            "[nltk_data]    | Downloading package twitter_samples to\n",
            "[nltk_data]    |     /content/nltk_data...\n",
            "[nltk_data]    |   Package twitter_samples is already up-to-date!\n",
            "[nltk_data]    | Downloading package udhr to /content/nltk_data...\n",
            "[nltk_data]    |   Package udhr is already up-to-date!\n",
            "[nltk_data]    | Downloading package udhr2 to /content/nltk_data...\n",
            "[nltk_data]    |   Package udhr2 is already up-to-date!\n",
            "[nltk_data]    | Downloading package unicode_samples to\n",
            "[nltk_data]    |     /content/nltk_data...\n",
            "[nltk_data]    |   Package unicode_samples is already up-to-date!\n",
            "[nltk_data]    | Downloading package universal_treebanks_v20 to\n",
            "[nltk_data]    |     /content/nltk_data...\n",
            "[nltk_data]    |   Package universal_treebanks_v20 is already up-to-\n",
            "[nltk_data]    |       date!\n",
            "[nltk_data]    | Downloading package verbnet to /content/nltk_data...\n",
            "[nltk_data]    |   Package verbnet is already up-to-date!\n",
            "[nltk_data]    | Downloading package webtext to /content/nltk_data...\n",
            "[nltk_data]    |   Package webtext is already up-to-date!\n",
            "[nltk_data]    | Downloading package wordnet to /content/nltk_data...\n",
            "[nltk_data]    |   Package wordnet is already up-to-date!\n",
            "[nltk_data]    | Downloading package wordnet_ic to\n",
            "[nltk_data]    |     /content/nltk_data...\n",
            "[nltk_data]    |   Package wordnet_ic is already up-to-date!\n",
            "[nltk_data]    | Downloading package words to /content/nltk_data...\n",
            "[nltk_data]    |   Package words is already up-to-date!\n",
            "[nltk_data]    | Downloading package ycoe to /content/nltk_data...\n",
            "[nltk_data]    |   Package ycoe is already up-to-date!\n",
            "[nltk_data]    | Downloading package rslp to /content/nltk_data...\n",
            "[nltk_data]    |   Package rslp is already up-to-date!\n",
            "[nltk_data]    | Downloading package maxent_treebank_pos_tagger to\n",
            "[nltk_data]    |     /content/nltk_data...\n",
            "[nltk_data]    |   Package maxent_treebank_pos_tagger is already up-\n",
            "[nltk_data]    |       to-date!\n",
            "[nltk_data]    | Downloading package universal_tagset to\n",
            "[nltk_data]    |     /content/nltk_data...\n",
            "[nltk_data]    |   Package universal_tagset is already up-to-date!\n",
            "[nltk_data]    | Downloading package maxent_ne_chunker to\n",
            "[nltk_data]    |     /content/nltk_data...\n",
            "[nltk_data]    |   Package maxent_ne_chunker is already up-to-date!\n",
            "[nltk_data]    | Downloading package punkt to /content/nltk_data...\n",
            "[nltk_data]    |   Package punkt is already up-to-date!\n",
            "[nltk_data]    | Downloading package book_grammars to\n",
            "[nltk_data]    |     /content/nltk_data...\n",
            "[nltk_data]    |   Package book_grammars is already up-to-date!\n",
            "[nltk_data]    | Downloading package sample_grammars to\n",
            "[nltk_data]    |     /content/nltk_data...\n",
            "[nltk_data]    |   Package sample_grammars is already up-to-date!\n",
            "[nltk_data]    | Downloading package spanish_grammars to\n",
            "[nltk_data]    |     /content/nltk_data...\n",
            "[nltk_data]    |   Package spanish_grammars is already up-to-date!\n",
            "[nltk_data]    | Downloading package basque_grammars to\n",
            "[nltk_data]    |     /content/nltk_data...\n",
            "[nltk_data]    |   Package basque_grammars is already up-to-date!\n",
            "[nltk_data]    | Downloading package large_grammars to\n",
            "[nltk_data]    |     /content/nltk_data...\n",
            "[nltk_data]    |   Package large_grammars is already up-to-date!\n",
            "[nltk_data]    | Downloading package tagsets to /content/nltk_data...\n",
            "[nltk_data]    |   Package tagsets is already up-to-date!\n",
            "[nltk_data]    | Downloading package snowball_data to\n",
            "[nltk_data]    |     /content/nltk_data...\n",
            "[nltk_data]    |   Package snowball_data is already up-to-date!\n",
            "[nltk_data]    | Downloading package bllip_wsj_no_aux to\n",
            "[nltk_data]    |     /content/nltk_data...\n",
            "[nltk_data]    |   Package bllip_wsj_no_aux is already up-to-date!\n",
            "[nltk_data]    | Downloading package word2vec_sample to\n",
            "[nltk_data]    |     /content/nltk_data...\n",
            "[nltk_data]    |   Package word2vec_sample is already up-to-date!\n",
            "[nltk_data]    | Downloading package panlex_swadesh to\n",
            "[nltk_data]    |     /content/nltk_data...\n",
            "[nltk_data]    |   Package panlex_swadesh is already up-to-date!\n",
            "[nltk_data]    | Downloading package mte_teip5 to\n",
            "[nltk_data]    |     /content/nltk_data...\n",
            "[nltk_data]    |   Package mte_teip5 is already up-to-date!\n",
            "[nltk_data]    | Downloading package averaged_perceptron_tagger to\n",
            "[nltk_data]    |     /content/nltk_data...\n",
            "[nltk_data]    |   Package averaged_perceptron_tagger is already up-\n",
            "[nltk_data]    |       to-date!\n",
            "[nltk_data]    | Downloading package perluniprops to\n",
            "[nltk_data]    |     /content/nltk_data...\n",
            "[nltk_data]    |   Package perluniprops is already up-to-date!\n",
            "[nltk_data]    | Downloading package nonbreaking_prefixes to\n",
            "[nltk_data]    |     /content/nltk_data...\n",
            "[nltk_data]    |   Package nonbreaking_prefixes is already up-to-date!\n",
            "[nltk_data]    | Downloading package vader_lexicon to\n",
            "[nltk_data]    |     /content/nltk_data...\n",
            "[nltk_data]    |   Package vader_lexicon is already up-to-date!\n",
            "[nltk_data]    | Downloading package porter_test to\n",
            "[nltk_data]    |     /content/nltk_data...\n",
            "[nltk_data]    |   Package porter_test is already up-to-date!\n",
            "[nltk_data]    | Downloading package wmt15_eval to\n",
            "[nltk_data]    |     /content/nltk_data...\n",
            "[nltk_data]    |   Package wmt15_eval is already up-to-date!\n",
            "[nltk_data]    | Downloading package mwa_ppdb to /content/nltk_data...\n",
            "[nltk_data]    |   Package mwa_ppdb is already up-to-date!\n",
            "[nltk_data]    | \n",
            "[nltk_data]  Done downloading collection all\n"
          ],
          "name": "stdout"
        }
      ]
    },
    {
      "metadata": {
        "id": "iCMzq92GUQhR",
        "colab_type": "code",
        "colab": {},
        "outputId": "84acaeb5-72fc-45ae-a19e-e79b6a821a8a"
      },
      "cell_type": "code",
      "source": [
        "# Raw Text\n",
        "text = \"Mr. Jones loves pizzas.\\nHe has a Ph.D. in Pieology.\"\n",
        "\n",
        "# Initializing Line Tokenizer\n",
        "lineTokenizer = LineTokenizer();\n",
        "\n",
        "# Output from LineTokenizer - breaks body of text into lines\n",
        "print(\"Line Tokenizer output :\",lineTokenizer.tokenize(text))\n",
        "\n",
        "# Initializing Space Tokenizer\n",
        "spaceTokenizer = SpaceTokenizer();\n",
        "\n",
        "# Output from SpaceTokenizer - splits the body of text on the space character\n",
        "print(\"Space Tokenizer output :\",spaceTokenizer.tokenize(text))\n",
        "\n",
        "# Output from Sentence Tokenizer - breaks the body of text into sentences\n",
        "tokenize_sentences = nltk.sent_tokenize(text)\n",
        "for sent in tokenize_sentences:\n",
        "    print(\"Sentence:\")\n",
        "    print(sent)\n",
        "    print()\n",
        "\n",
        "# Output from Word Tokenizer - breaks up the words and punctuation marks\n",
        "print(\"Word Tokenizer output :\", word_tokenize(text))\n",
        "\n",
        "# Output from Tweet Tokenizer - use this tokenizer when dealing with tweets\n",
        "# as they contain special strings (e.g. #)\n",
        "tweetTokenizer = TweetTokenizer()\n",
        "print(\"Tweet Tokenizer output :\",tweetTokenizer.tokenize(\n",
        "    \"This is a awesome #gesture: :-) :-D\"))"
      ],
      "execution_count": 0,
      "outputs": []
    },
    {
      "metadata": {
        "id": "DbjnZgZTU5bi",
        "colab_type": "text"
      },
      "cell_type": "markdown",
      "source": [
        "### Filter out Stop Words\n",
        "\n",
        "Stop words are words that do not add much to the semantic content of text – they are effectively filler words. Words such as ‘when’, ‘nor’, ‘or’, ‘and’, ‘the’ are considered as stop words and it is best to filter then out while processing text.  The Natural Language Toolkit comes with a stop word list that will be used to eradicate stop words. "
      ]
    },
    {
      "metadata": {
        "id": "5QWrwPXCVQxc",
        "colab_type": "code",
        "colab": {
          "base_uri": "https://localhost:8080/",
          "height": 72
        },
        "outputId": "f7c707bf-02b5-4a24-d548-79cd60873a17"
      },
      "cell_type": "code",
      "source": [
        "# Print the English stop words\n",
        "en_stopwords = set(nltk.corpus.stopwords.words('english'))\n",
        "print(en_stopwords)\n",
        "\n",
        "# Tokenize the sentence\n",
        "from nltk.tokenize import word_tokenize\n",
        "rawText = \"The dog ran up the steps and entered the owner's room to check if the owner was in the room\"\n",
        "tokens = word_tokenize(rawText)\n",
        "\n",
        "# Print only the words that are not deemed as stop words\n",
        "not_stop_tokens = [token for token in tokens if token.lower() not in en_stopwords]\n",
        "print(not_stop_tokens)"
      ],
      "execution_count": 5,
      "outputs": [
        {
          "output_type": "stream",
          "text": [
            "{'then', 'than', \"you'd\", 're', 'at', 'myself', \"couldn't\", 'yourselves', 'its', 'be', 'were', 'or', 'up', 'hers', 'haven', 'because', 've', 'theirs', 'with', 'in', 'few', 'their', 'have', 'are', 'the', 'shouldn', 'if', 'i', 'how', 'our', 'these', 'wouldn', 'same', 'each', \"aren't\", 'why', 'them', 'his', 'over', 'was', 'don', 'but', 'below', \"should've\", 'too', 'll', 'me', \"weren't\", 'mightn', \"you'll\", \"wouldn't\", 'is', 'against', 'wasn', 'yourself', 'doing', 'about', 'do', \"shan't\", \"doesn't\", 'an', 'through', 'mustn', \"mustn't\", 'hasn', 'for', 'you', 'this', 'once', 'above', 'off', 'has', \"you're\", 'until', 'that', 'all', 'so', \"hasn't\", 'm', 'own', 'as', 'again', 'him', \"haven't\", 'ours', 'during', 'aren', 'will', 'who', 'whom', 'd', 'weren', 'couldn', \"needn't\", 'he', 'didn', 'hadn', 'very', 'when', \"you've\", 'out', 'she', 'being', 'a', 'by', 'more', 'does', 'now', 'on', 's', 'other', 'into', 'himself', \"she's\", 'ourselves', 'only', 'did', 'further', 't', 'we', 'to', \"that'll\", 'those', 'having', 'under', 'themselves', 'yours', 'her', \"shouldn't\", 'ain', 'where', 'should', \"won't\", 'of', 'had', 'herself', 'ma', 'what', 'while', 'nor', 'which', \"didn't\", 'here', 'doesn', 'after', 'o', 'they', 'isn', \"it's\", 'down', \"mightn't\", 'am', 'any', 'not', 'there', 'and', 'needn', 'such', 'between', \"hadn't\", 'my', \"isn't\", 'before', 'some', 'shan', 'both', 'from', 'been', 'just', 'y', 'it', \"wasn't\", 'your', 'most', 'no', 'won', 'itself', \"don't\", 'can'}\n",
            "['dog', 'ran', 'steps', 'entered', 'owner', \"'s\", 'room', 'check', 'owner', 'room']\n"
          ],
          "name": "stdout"
        }
      ]
    },
    {
      "metadata": {
        "id": "BMjt95U2VlU4",
        "colab_type": "text"
      },
      "cell_type": "markdown",
      "source": [
        "### Utilize stemming to derive the base form of a word\n",
        "\n",
        "Stemming is a technique to uncover the base form of a word without any suffixes. Many variations of words carry the same meaning, for example: drive and driving. A stemming algorithm removes the suffix and returns the stem of the word which in our simple example is drive. Search engines utilize stemming for indexing words. Storing all forms of a word would be highly redundant and inefficient. Instead a search engine stores only the stems, greatly shrinking the size of index while enhancing retrieval accuracy.\n",
        "\n",
        "In the tutorial, we will cover 2 Stemming algorithms i.e.\n",
        "\n",
        "1)\tPorter Stemming Algorithm\n",
        "\n",
        "2)\tLancaster Stemming Algorithm\n",
        "\n",
        "The Lancaster Stemmer is greedier than the Porter Stemmer. It tries to eradicate as many characters as possible from the end. However, the Porter Stemmer is usually the default algorithm utilized for stemming.\n",
        "\n",
        "One of the drawbacks of Stemming is that it results in considerable data loss which detracts from truly understanding the semantics of text"
      ]
    },
    {
      "metadata": {
        "id": "Bq48URRyV0R2",
        "colab_type": "code",
        "colab": {
          "base_uri": "https://localhost:8080/",
          "height": 72
        },
        "outputId": "f3f51eb8-bba4-414e-f96c-4c4f9e11db49"
      },
      "cell_type": "code",
      "source": [
        "# Import the Stemmers and Word Tokenizer\n",
        "from nltk import PorterStemmer, LancasterStemmer, word_tokenize\n",
        "\n",
        "rawText = \"My name is Thomson Comer, commander-in-chief of the Machine Learning program at Lambda school. I am creating the curriculum for the Machine Learning program and will be teaching the full-time Machine Learning program beginning in April 2018.\"\n",
        "\n",
        "tokens = word_tokenize(rawText)\n",
        "\n",
        "pStemmer = PorterStemmer()\n",
        "porter_Stems = [pStemmer.stem(t) for t in tokens]\n",
        "print(porter_Stems)\n",
        "\n",
        "# You will notice that the suffixes such as \"ing\" has been removed. \n",
        "# In some case, trailing 'e' has been removed as well.\n",
        "\n",
        "lStemmer = LancasterStemmer()\n",
        "lancaster_Stems = [lStemmer.stem(t) for t in tokens]\n",
        "print(lancaster_Stems)\n",
        "\n",
        "# You will notice that the suffixes such as \"ing\" has been removed. \n",
        "# However in the case of Lancaster Stemmer, trailing 'e', 'um', 'er', 'e', 'a' have been removed as well."
      ],
      "execution_count": 6,
      "outputs": [
        {
          "output_type": "stream",
          "text": [
            "['My', 'name', 'is', 'thomson', 'comer', ',', 'commander-in-chief', 'of', 'the', 'machin', 'learn', 'program', 'at', 'lambda', 'school', '.', 'I', 'am', 'creat', 'the', 'curriculum', 'for', 'the', 'machin', 'learn', 'program', 'and', 'will', 'be', 'teach', 'the', 'full-tim', 'machin', 'learn', 'program', 'begin', 'in', 'april', '2018', '.']\n",
            "['my', 'nam', 'is', 'thomson', 'com', ',', 'commander-in-chief', 'of', 'the', 'machin', 'learn', 'program', 'at', 'lambd', 'school', '.', 'i', 'am', 'cre', 'the', 'curricul', 'for', 'the', 'machin', 'learn', 'program', 'and', 'wil', 'be', 'teach', 'the', 'full-time', 'machin', 'learn', 'program', 'begin', 'in', 'april', '2018', '.']\n"
          ],
          "name": "stdout"
        }
      ]
    },
    {
      "metadata": {
        "id": "XFqhIVaPWFiO",
        "colab_type": "text"
      },
      "cell_type": "markdown",
      "source": [
        "### Understand how Lemmatization differs from Stemming"
      ]
    },
    {
      "metadata": {
        "id": "I2d665DSWHtk",
        "colab_type": "text"
      },
      "cell_type": "markdown",
      "source": [
        "A Lemma is a base form of a word. Unlike a stem which is obtained by removing the suffixes, a lemma is a dictionary-matched base form and removes suffixes only if it can find the resulting word in a dictionary. Even though Lemmatization performs better at uncovering the base form of a word than Stemming, it is not completely perfect. \n",
        "\n",
        "In the Lemmatization example covered in the tutorial, we will use WordNet which is a lexical database for the English language, created by Princeton University, and is part of the NLTK corpus.\n",
        "\n",
        "As you step through the next snippet of code below, you will uncover that the lemmatizer makes fewer mistakes than the stemmer. As a result, the lemmatizer does a far better job of getting us to a base form as compared to the stemmer."
      ]
    },
    {
      "metadata": {
        "id": "JbiQ4zcoWSES",
        "colab_type": "code",
        "colab": {
          "base_uri": "https://localhost:8080/",
          "height": 72
        },
        "outputId": "89ac3952-d66b-4ae2-998c-352ea6e30b4b"
      },
      "cell_type": "code",
      "source": [
        "# Import WordNet\n",
        "from nltk.corpus import wordnet\n",
        "\n",
        "# Import packages\n",
        "from nltk import word_tokenize, PorterStemmer, WordNetLemmatizer\n",
        "\n",
        "# Raw Text\n",
        "rawText = \"My name is Thomson Comer, commander-in-chief of the Machine Learning program at Lambda school. I am creating the curriculum for the Machine Learning program and will be teaching the full-time Machine Learning program beginning in April 2018. We are driving full steam forward to have enough content ready for the launch.\"\n",
        "\n",
        "# Break the body of text into tokens\n",
        "tokens = word_tokenize(rawText)\n",
        "\n",
        "# Apply from the Porter Stemmer\n",
        "pStemmer = PorterStemmer()\n",
        "porter_Stems = [pStemmer.stem(t) for t in tokens]\n",
        "print(porter_Stems)\n",
        "\n",
        "# Apply the WordNet Lemmatizer\n",
        "lemmatizer = WordNetLemmatizer()\n",
        "word_lemmas = [lemmatizer.lemmatize(t) for t in tokens]\n",
        "print(word_lemmas)\n",
        "\n",
        "# The WordNet Lemmatizer is essentially doing a match against the WordNet lexical database"
      ],
      "execution_count": 7,
      "outputs": [
        {
          "output_type": "stream",
          "text": [
            "['My', 'name', 'is', 'thomson', 'comer', ',', 'commander-in-chief', 'of', 'the', 'machin', 'learn', 'program', 'at', 'lambda', 'school', '.', 'I', 'am', 'creat', 'the', 'curriculum', 'for', 'the', 'machin', 'learn', 'program', 'and', 'will', 'be', 'teach', 'the', 'full-tim', 'machin', 'learn', 'program', 'begin', 'in', 'april', '2018', '.', 'We', 'are', 'drive', 'full', 'steam', 'forward', 'to', 'have', 'enough', 'content', 'readi', 'for', 'the', 'launch', '.']\n",
            "['My', 'name', 'is', 'Thomson', 'Comer', ',', 'commander-in-chief', 'of', 'the', 'Machine', 'Learning', 'program', 'at', 'Lambda', 'school', '.', 'I', 'am', 'creating', 'the', 'curriculum', 'for', 'the', 'Machine', 'Learning', 'program', 'and', 'will', 'be', 'teaching', 'the', 'full-time', 'Machine', 'Learning', 'program', 'beginning', 'in', 'April', '2018', '.', 'We', 'are', 'driving', 'full', 'steam', 'forward', 'to', 'have', 'enough', 'content', 'ready', 'for', 'the', 'launch', '.']\n"
          ],
          "name": "stdout"
        }
      ]
    },
    {
      "metadata": {
        "id": "Z9CMQH2XXdlF",
        "colab_type": "text"
      },
      "cell_type": "markdown",
      "source": [
        "Now, we will leverage a range of related techniques to uncover the structure of text. The first technique that we will examine is Part-Of-Speech tagging (POS) which is used to label words in a sentence as nouns, pronouns, adjectives, verbs, etc. Following that, we will explore the concept of \"Dependency Parsing\" which parses a body of text to uncover chunks of meaning and relations. Then, we will look at how to find the \"head\" of a sentence which denotes the most important word in the sentence. Finally, we will review the topic of \"Named Entity Recognition\" which helps in finding named entities within sentences such as places, people, things, monetary figures, etc."
      ]
    },
    {
      "metadata": {
        "id": "3COp7noCXyGk",
        "colab_type": "text"
      },
      "cell_type": "markdown",
      "source": [
        "**Use Part-Of-Speech (POS) Tagging to label words in a sentence**"
      ]
    },
    {
      "metadata": {
        "id": "saqME_-8X-uL",
        "colab_type": "text"
      },
      "cell_type": "markdown",
      "source": [
        "Part-Of-Speech (POS) tagging indicates what type of word in a sentence each word is. It informs you what is a verb, what is a noun, what is a pronoun, what is an adjective, etc. \n",
        "\n",
        "For your reference, the link below provides definitions for a majority of the tags in the POS tag list:\n",
        "\n",
        "https://stackoverflow.com/questions/15388831/what-are-all-possible-pos-tags-of-nltk\n"
      ]
    },
    {
      "metadata": {
        "id": "MPV38LGBXpN1",
        "colab_type": "code",
        "colab": {},
        "outputId": "3d84196a-8c7e-4010-baf3-181bee2714dc"
      },
      "cell_type": "code",
      "source": [
        "compoundSentence = \"Sacramento is the Capital of California and Washington DC is the Capital of the United States\"\n",
        "\n",
        "# Tokenize the sentence\n",
        "tokensInSentence = nltk.word_tokenize(compoundSentence)\n",
        "\n",
        "# Retrieve the parts of speech\n",
        "posTags = nltk.pos_tag(tokensInSentence)\n",
        "print(posTags)\n",
        "\n",
        "# A list of tuples is output\n",
        "# Each tuple contains the token i.e. work and the POS identier\n",
        "\n",
        "# The POS identifiers for this example is outlined below\n",
        "# NNP -- proper noun\n",
        "# VBZ -- verb, 3rd person sing. present\n",
        "# DT  --  determiner\n",
        "# NN  -- noun, singular \n",
        "# IN  --  preposition/subordinating conjunction\n",
        "# CC --  coordinating conjunction\n",
        "# NNPS -- proper noun, plural"
      ],
      "execution_count": 0,
      "outputs": []
    },
    {
      "metadata": {
        "id": "Gde42-Ip6-qC",
        "colab_type": "text"
      },
      "cell_type": "markdown",
      "source": [
        "### Lecture is continued in new tab...."
      ]
    }
  ]
}