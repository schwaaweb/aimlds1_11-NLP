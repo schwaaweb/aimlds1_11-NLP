{
  "nbformat": 4,
  "nbformat_minor": 0,
  "metadata": {
    "colab": {
      "name": "Th11_CC--DJ--NLP_Coding_Challenge_#4.ipynb",
      "version": "0.3.2",
      "provenance": [],
      "collapsed_sections": []
    },
    "kernelspec": {
      "name": "python3",
      "display_name": "Python 3"
    },
    "accelerator": "GPU"
  },
  "cells": [
    {
      "cell_type": "markdown",
      "metadata": {
        "id": "view-in-github",
        "colab_type": "text"
      },
      "source": [
        "[View in Colaboratory](https://colab.research.google.com/github/schwaaweb/aimlds1_11-NLP/blob/master/Th11_CC_DJ_NLP_Coding_Challenge__4.ipynb)"
      ]
    },
    {
      "metadata": {
        "id": "qd1ltfV8QShV",
        "colab_type": "text"
      },
      "cell_type": "markdown",
      "source": [
        "### Coding Challenge #4: Natural Language Processing"
      ]
    },
    {
      "metadata": {
        "id": "iWWDecybQ1zz",
        "colab_type": "text"
      },
      "cell_type": "markdown",
      "source": [
        "In this Coding Challenge, you will decipher the sentiment within a large set of tweets regarding a specific topic on Twitter in an autonomous fashion. \n",
        "\n",
        "**Challenge **\n",
        "\n",
        "**1)** Construct a Twitter Sentiment Analyzer. The Sentiment Analyzer will search twitter for a list of tweets about any topic of choice, then it will analyze each tweet to ascertain whether a positive or negative emotion is expressed in the tweet\n",
        "\n",
        "**2)** Create a graph of polarity to determine whether the trend over time is a positive one or a negative one. *Hint*: you will have to define a StreamListener instance to continuously listen in on a specific topic and then graph the polarity to showcase the trend (i.e. positive or negative)\n",
        "\n",
        "***Setup***:\n",
        "\n",
        "Before you can work on the challenge, the following items need to be taken care of:\n",
        "\n",
        "1) Install dependencies: a) pip install tweepy - library for accessing the twitter API, b) textblob (pip install textblob) which will facilitate the actual task of performing sentiment analysis.\n",
        "\n",
        "2) You need data - tweepy lets you get data live from the Twitter API, which you have to register for. a) Go to https://apps.twitter.com, b) click on \"Create New Application\", c) Under Application details, enter name, description, website details (can be anything), d) click on \"Create Application\" and e) make a note of the tokens on the \"Keys and Access Tokens\" tab.\n",
        "\n",
        "If you are blocked on the Twitter API/tweepy step, it is okay to manually get or code some test tweets to still use for sentiment analysis, and revisit the API step later. Good luck!\n",
        "\n",
        "\n",
        "\n",
        "\n",
        "\n",
        "Name: schwaaweb_twt_sent.0\n",
        "\n",
        "Description: simple sentiment analysis\n",
        "\n",
        "Website: https://amazing-euclid-b565e6.netlify.com/"
      ]
    },
    {
      "metadata": {
        "id": "0ocH5Dj25LoJ",
        "colab_type": "code",
        "colab": {}
      },
      "cell_type": "code",
      "source": [
        "%%time\n",
        "!conda install -c conda-forge textblob tweepy --yes"
      ],
      "execution_count": 0,
      "outputs": []
    }
  ]
}