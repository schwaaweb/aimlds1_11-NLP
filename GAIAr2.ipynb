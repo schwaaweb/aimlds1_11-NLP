{
 "cells": [
  {
   "cell_type": "code",
   "execution_count": 1,
   "metadata": {},
   "outputs": [
    {
     "name": "stdout",
     "output_type": "stream",
     "text": [
      "CPU times: user 1.33 s, sys: 329 ms, total: 1.66 s\n",
      "Wall time: 8.91 s\n"
     ]
    }
   ],
   "source": [
    "%%time\n",
    "\n",
    "import pandas as pd\n",
    "\n",
    "df = pd.read_csv('GaiaSource_1000172165251650944_1000424567594791808.csv')"
   ]
  },
  {
   "cell_type": "code",
   "execution_count": 3,
   "metadata": {},
   "outputs": [
    {
     "data": {
      "text/plain": [
       "(14209, 94)"
      ]
     },
     "execution_count": 3,
     "metadata": {},
     "output_type": "execute_result"
    }
   ],
   "source": [
    "df.shape"
   ]
  },
  {
   "cell_type": "code",
   "execution_count": 6,
   "metadata": {},
   "outputs": [
    {
     "data": {
      "text/plain": [
       "['solution_id',\n",
       " 'designation',\n",
       " 'source_id',\n",
       " 'random_index',\n",
       " 'ref_epoch',\n",
       " 'ra',\n",
       " 'ra_error',\n",
       " 'dec',\n",
       " 'dec_error',\n",
       " 'parallax',\n",
       " 'parallax_error',\n",
       " 'parallax_over_error',\n",
       " 'pmra',\n",
       " 'pmra_error',\n",
       " 'pmdec',\n",
       " 'pmdec_error',\n",
       " 'ra_dec_corr',\n",
       " 'ra_parallax_corr',\n",
       " 'ra_pmra_corr',\n",
       " 'ra_pmdec_corr',\n",
       " 'dec_parallax_corr',\n",
       " 'dec_pmra_corr',\n",
       " 'dec_pmdec_corr',\n",
       " 'parallax_pmra_corr',\n",
       " 'parallax_pmdec_corr',\n",
       " 'pmra_pmdec_corr',\n",
       " 'astrometric_n_obs_al',\n",
       " 'astrometric_n_obs_ac',\n",
       " 'astrometric_n_good_obs_al',\n",
       " 'astrometric_n_bad_obs_al',\n",
       " 'astrometric_gof_al',\n",
       " 'astrometric_chi2_al',\n",
       " 'astrometric_excess_noise',\n",
       " 'astrometric_excess_noise_sig',\n",
       " 'astrometric_params_solved',\n",
       " 'astrometric_primary_flag',\n",
       " 'astrometric_weight_al',\n",
       " 'astrometric_pseudo_colour',\n",
       " 'astrometric_pseudo_colour_error',\n",
       " 'mean_varpi_factor_al',\n",
       " 'astrometric_matched_observations',\n",
       " 'visibility_periods_used',\n",
       " 'astrometric_sigma5d_max',\n",
       " 'frame_rotator_object_type',\n",
       " 'matched_observations',\n",
       " 'duplicated_source',\n",
       " 'phot_g_n_obs',\n",
       " 'phot_g_mean_flux',\n",
       " 'phot_g_mean_flux_error',\n",
       " 'phot_g_mean_flux_over_error',\n",
       " 'phot_g_mean_mag',\n",
       " 'phot_bp_n_obs',\n",
       " 'phot_bp_mean_flux',\n",
       " 'phot_bp_mean_flux_error',\n",
       " 'phot_bp_mean_flux_over_error',\n",
       " 'phot_bp_mean_mag',\n",
       " 'phot_rp_n_obs',\n",
       " 'phot_rp_mean_flux',\n",
       " 'phot_rp_mean_flux_error',\n",
       " 'phot_rp_mean_flux_over_error',\n",
       " 'phot_rp_mean_mag',\n",
       " 'phot_bp_rp_excess_factor',\n",
       " 'phot_proc_mode',\n",
       " 'bp_rp',\n",
       " 'bp_g',\n",
       " 'g_rp',\n",
       " 'radial_velocity',\n",
       " 'radial_velocity_error',\n",
       " 'rv_nb_transits',\n",
       " 'rv_template_teff',\n",
       " 'rv_template_logg',\n",
       " 'rv_template_fe_h',\n",
       " 'phot_variable_flag',\n",
       " 'l',\n",
       " 'b',\n",
       " 'ecl_lon',\n",
       " 'ecl_lat',\n",
       " 'priam_flags',\n",
       " 'teff_val',\n",
       " 'teff_percentile_lower',\n",
       " 'teff_percentile_upper',\n",
       " 'a_g_val',\n",
       " 'a_g_percentile_lower',\n",
       " 'a_g_percentile_upper',\n",
       " 'e_bp_min_rp_val',\n",
       " 'e_bp_min_rp_percentile_lower',\n",
       " 'e_bp_min_rp_percentile_upper',\n",
       " 'flame_flags',\n",
       " 'radius_val',\n",
       " 'radius_percentile_lower',\n",
       " 'radius_percentile_upper',\n",
       " 'lum_val',\n",
       " 'lum_percentile_lower',\n",
       " 'lum_percentile_upper']"
      ]
     },
     "execution_count": 6,
     "metadata": {},
     "output_type": "execute_result"
    }
   ],
   "source": [
    "list(df)"
   ]
  },
  {
   "cell_type": "code",
   "execution_count": null,
   "metadata": {},
   "outputs": [],
   "source": [
    "echo "
   ]
  }
 ],
 "metadata": {
  "kernelspec": {
   "display_name": "Python 3",
   "language": "python",
   "name": "python3"
  },
  "language_info": {
   "codemirror_mode": {
    "name": "ipython",
    "version": 3
   },
   "file_extension": ".py",
   "mimetype": "text/x-python",
   "name": "python",
   "nbconvert_exporter": "python",
   "pygments_lexer": "ipython3",
   "version": "3.6.4"
  }
 },
 "nbformat": 4,
 "nbformat_minor": 2
}
