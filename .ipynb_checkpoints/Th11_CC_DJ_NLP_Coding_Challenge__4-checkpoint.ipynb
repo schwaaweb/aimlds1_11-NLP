{
 "cells": [
  {
   "cell_type": "markdown",
   "metadata": {
    "colab_type": "text",
    "id": "view-in-github"
   },
   "source": [
    "[View in Colaboratory](https://colab.research.google.com/github/schwaaweb/aimlds1_11-NLP/blob/master/Th11_CC_DJ_NLP_Coding_Challenge__4.ipynb)"
   ]
  },
  {
   "cell_type": "markdown",
   "metadata": {
    "colab_type": "text",
    "id": "qd1ltfV8QShV"
   },
   "source": [
    "### Coding Challenge #4: Natural Language Processing"
   ]
  },
  {
   "cell_type": "markdown",
   "metadata": {
    "colab_type": "text",
    "id": "iWWDecybQ1zz"
   },
   "source": [
    "In this Coding Challenge, you will decipher the sentiment within a large set of tweets regarding a specific topic on Twitter in an autonomous fashion. \n",
    "\n",
    "**Challenge **\n",
    "\n",
    "**1)** Construct a Twitter Sentiment Analyzer. The Sentiment Analyzer will search twitter for a list of tweets about any topic of choice, then it will analyze each tweet to ascertain whether a positive or negative emotion is expressed in the tweet\n",
    "\n",
    "**2)** Create a graph of polarity to determine whether the trend over time is a positive one or a negative one. *Hint*: you will have to define a StreamListener instance to continuously listen in on a specific topic and then graph the polarity to showcase the trend (i.e. positive or negative)\n",
    "\n",
    "***Setup***:\n",
    "\n",
    "Before you can work on the challenge, the following items need to be taken care of:\n",
    "\n",
    "1) Install dependencies: a) pip install tweepy - library for accessing the twitter API, b) textblob (pip install textblob) which will facilitate the actual task of performing sentiment analysis.\n",
    "\n",
    "2) You need data - tweepy lets you get data live from the Twitter API, which you have to register for. a) Go to https://apps.twitter.com, b) click on \"Create New Application\", c) Under Application details, enter name, description, website details (can be anything), d) click on \"Create Application\" and e) make a note of the tokens on the \"Keys and Access Tokens\" tab.\n",
    "\n",
    "If you are blocked on the Twitter API/tweepy step, it is okay to manually get or code some test tweets to still use for sentiment analysis, and revisit the API step later. Good luck!\n"
   ]
  },
  {
   "cell_type": "code",
   "execution_count": 1,
   "metadata": {
    "colab": {},
    "colab_type": "code",
    "id": "0ocH5Dj25LoJ"
   },
   "outputs": [
    {
     "name": "stdout",
     "output_type": "stream",
     "text": [
      "Solving environment: done\n",
      "\n",
      "## Package Plan ##\n",
      "\n",
      "  environment location: /Users/darwinm/anaconda3\n",
      "\n",
      "  added / updated specs: \n",
      "    - textblob\n",
      "    - tweepy\n",
      "\n",
      "\n",
      "The following packages will be downloaded:\n",
      "\n",
      "    package                    |            build\n",
      "    ---------------------------|-----------------\n",
      "    blinker-1.4                |             py_0          13 KB  conda-forge\n",
      "    conda-4.5.4                |           py36_0         622 KB  conda-forge\n",
      "    oauthlib-2.1.0             |             py_0          69 KB  conda-forge\n",
      "    tweepy-3.5.0               |           py36_0          50 KB  conda-forge\n",
      "    requests-oauthlib-0.8.0    |           py36_1          26 KB  conda-forge\n",
      "    textblob-0.15.1            |             py_0         597 KB  conda-forge\n",
      "    pyjwt-1.6.4                |             py_0          16 KB  conda-forge\n",
      "    certifi-2018.4.16          |           py36_0         142 KB  conda-forge\n",
      "    ------------------------------------------------------------\n",
      "                                           Total:         1.5 MB\n",
      "\n",
      "The following NEW packages will be INSTALLED:\n",
      "\n",
      "    blinker:           1.4-py_0          conda-forge\n",
      "    oauthlib:          2.1.0-py_0        conda-forge\n",
      "    pyjwt:             1.6.4-py_0        conda-forge\n",
      "    requests-oauthlib: 0.8.0-py36_1      conda-forge\n",
      "    textblob:          0.15.1-py_0       conda-forge\n",
      "    tweepy:            3.5.0-py36_0      conda-forge\n",
      "\n",
      "The following packages will be UPDATED:\n",
      "\n",
      "    ca-certificates:   2018.03.07-0      anaconda    --> 2018.4.16-0      conda-forge\n",
      "    certifi:           2018.4.16-py36_0  anaconda    --> 2018.4.16-py36_0 conda-forge\n",
      "    conda:             4.5.4-py36_0      anaconda    --> 4.5.4-py36_0     conda-forge\n",
      "    openssl:           1.0.2o-h26aff7b_0 anaconda    --> 1.0.2o-0         conda-forge\n",
      "\n",
      "\n",
      "Downloading and Extracting Packages\n",
      "blinker-1.4          |   13 KB | ####################################### | 100% \n",
      "conda-4.5.4          |  622 KB | ####################################### | 100% \n",
      "oauthlib-2.1.0       |   69 KB | ####################################### | 100% \n",
      "tweepy-3.5.0         |   50 KB | ####################################### | 100% \n",
      "requests-oauthlib-0. |   26 KB | ####################################### | 100% \n",
      "textblob-0.15.1      |  597 KB | ####################################### | 100% \n",
      "pyjwt-1.6.4          |   16 KB | ####################################### | 100% \n",
      "certifi-2018.4.16    |  142 KB | ####################################### | 100% \n",
      "Preparing transaction: done\n",
      "Verifying transaction: done\n",
      "Executing transaction: done\n",
      "CPU times: user 5.45 s, sys: 4.96 s, total: 10.4 s\n",
      "Wall time: 3min 37s\n"
     ]
    }
   ],
   "source": [
    "%%time\n",
    "!conda install -c conda-forge textblob tweepy --yes"
   ]
  },
  {
   "cell_type": "markdown",
   "metadata": {},
   "source": [
    "# App Info:\n",
    "\n",
    "Name: schwaaweb_twt_sent.20180614\n",
    "\n",
    "Description: simple sentiment analysis\n",
    "\n",
    "Website: https://amazing-euclid-b565e6.netlify.com/\n",
    "\n",
    "          _____________\n",
    "          Consumer Key \n",
    "          \n",
    "Consumer Key (API Key)\thse80rQnATyXi7lPgMXXoJRmP\n",
    "\n",
    "Consumer Secret (API Secret)\t-------------------------------\n",
    "\n",
    "Access Level\tRead and write (modify app permissions)\n",
    "\n",
    "Owner\tschwaaweb\n",
    "\n",
    "Owner ID\t3110959311\n",
    "\n",
    "\n",
    "         -----------------\n",
    "         Access Token\n",
    "         \n",
    "Access Token\t3110959311-4u4cJDHgP1xUODq9ZeDul4j8YL4SIgjFkVC57VU\n",
    "\n",
    "Access Token Secret\t--------------------------\n",
    "\n",
    "Access Level\tRead and write\n",
    "\n",
    "Owner\tschwaaweb\n",
    "\n",
    "Owner ID\t3110959311\n"
   ]
  },
  {
   "cell_type": "markdown",
   "metadata": {},
   "source": [
    "**1)** Construct a Twitter Sentiment Analyzer. The Sentiment Analyzer will search twitter for a list of tweets about any topic of choice, then it will analyze each tweet to ascertain whether a positive or negative emotion is expressed in the tweet\n"
   ]
  },
  {
   "cell_type": "markdown",
   "metadata": {},
   "source": [
    "[Tutorial](https://dev.to/rodolfoferro/sentiment-analysis-on-trumpss-tweets-using-python-)"
   ]
  },
  {
   "cell_type": "code",
   "execution_count": 2,
   "metadata": {},
   "outputs": [
    {
     "name": "stdout",
     "output_type": "stream",
     "text": [
      "CPU times: user 1.76 s, sys: 576 ms, total: 2.34 s\n",
      "Wall time: 17.8 s\n"
     ]
    }
   ],
   "source": [
    "%%time\n",
    "# General:\n",
    "import tweepy           # To consume Twitter's API\n",
    "import pandas as pd     # To handle data\n",
    "import numpy as np      # For number computing\n",
    "\n",
    "# For plotting and visualization:\n",
    "from IPython.display import display\n",
    "import matplotlib.pyplot as plt\n",
    "import seaborn as sns\n",
    "%matplotlib inline"
   ]
  },
  {
   "cell_type": "code",
   "execution_count": 3,
   "metadata": {},
   "outputs": [],
   "source": [
    "# We import our access keys:\n",
    "from credentials import *    # This will allow us to use the keys as variables\n"
   ]
  },
  {
   "cell_type": "code",
   "execution_count": 4,
   "metadata": {},
   "outputs": [],
   "source": [
    "# API's setup:\n",
    "def twitter_setup():\n",
    "    \"\"\"\n",
    "    Utility function to setup the Twitter's API\n",
    "    with our access keys provided.\n",
    "    \"\"\"\n",
    "    # Authentication and access using keys:\n",
    "    auth = tweepy.OAuthHandler(CONSUMER_KEY, CONSUMER_SECRET)\n",
    "    auth.set_access_token(ACCESS_TOKEN, ACCESS_SECRET)\n",
    "\n",
    "    # Return API with authentication:\n",
    "    api = tweepy.API(auth)\n",
    "    return api"
   ]
  },
  {
   "cell_type": "code",
   "execution_count": 5,
   "metadata": {},
   "outputs": [
    {
     "name": "stdout",
     "output_type": "stream",
     "text": [
      "Number of tweets extracted: 200.\n",
      "\n",
      "5 recent tweets:\n",
      "\n",
      "sometimes I have trouble saying no because I want to help everyone\n",
      "\n",
      "this is new for me but it’s just how I feel now. I don’t know why. I thought my ego protected me from doubters so t… https://t.co/pC1d7C5UkK\n",
      "\n",
      "Who or what is Kanye West with no ego? Just Ye\n",
      "\n",
      "I killed my ego\n",
      "\n",
      "your pride can be and will be used against you\n",
      "\n"
     ]
    }
   ],
   "source": [
    "# We create an extractor object:\n",
    "extractor = twitter_setup()\n",
    "\n",
    "# We create a tweet list as follows:\n",
    "tweets = extractor.user_timeline(screen_name=\"kanyewest\", count=200)\n",
    "print(\"Number of tweets extracted: {}.\\n\".format(len(tweets)))\n",
    "\n",
    "# We print the most recent 5 tweets:\n",
    "print(\"5 recent tweets:\\n\")\n",
    "for tweet in tweets[:5]:\n",
    "    print(tweet.text)\n",
    "    print()"
   ]
  },
  {
   "cell_type": "code",
   "execution_count": 18,
   "metadata": {},
   "outputs": [],
   "source": [
    "df = pd.DataFrame(data=[tweet.text for tweet in tweets], columns=['Tweets'])"
   ]
  },
  {
   "cell_type": "code",
   "execution_count": 23,
   "metadata": {},
   "outputs": [
    {
     "name": "stdout",
     "output_type": "stream",
     "text": [
      "['__class__', '__delattr__', '__dict__', '__dir__', '__doc__', '__eq__', '__format__', '__ge__', '__getattribute__', '__getstate__', '__gt__', '__hash__', '__init__', '__init_subclass__', '__le__', '__lt__', '__module__', '__ne__', '__new__', '__reduce__', '__reduce_ex__', '__repr__', '__setattr__', '__sizeof__', '__str__', '__subclasshook__', '__weakref__', '_api', '_json', 'author', 'contributors', 'coordinates', 'created_at', 'destroy', 'entities', 'favorite', 'favorite_count', 'favorited', 'geo', 'id', 'id_str', 'in_reply_to_screen_name', 'in_reply_to_status_id', 'in_reply_to_status_id_str', 'in_reply_to_user_id', 'in_reply_to_user_id_str', 'is_quote_status', 'lang', 'parse', 'parse_list', 'place', 'retweet', 'retweet_count', 'retweeted', 'retweets', 'source', 'source_url', 'text', 'truncated', 'user']\n"
     ]
    }
   ],
   "source": [
    "# Tweepy\n",
    "print(dir(tweets[0]))"
   ]
  },
  {
   "cell_type": "code",
   "execution_count": 24,
   "metadata": {},
   "outputs": [
    {
     "name": "stdout",
     "output_type": "stream",
     "text": [
      "1007242346763698176\n",
      "2018-06-14 12:44:23\n",
      "Twitter for iPhone\n",
      "81697\n",
      "29205\n",
      "None\n",
      "None\n",
      "{'hashtags': [], 'symbols': [], 'user_mentions': [], 'urls': []}\n"
     ]
    }
   ],
   "source": [
    "print(tweets[0].id)\n",
    "print(tweets[0].created_at)\n",
    "print(tweets[0].source)\n",
    "print(tweets[0].favorite_count)\n",
    "print(tweets[0].retweet_count)\n",
    "print(tweets[0].geo)\n",
    "print(tweets[0].coordinates)\n",
    "print(tweets[0].entities)"
   ]
  },
  {
   "cell_type": "code",
   "execution_count": 25,
   "metadata": {},
   "outputs": [],
   "source": [
    "df['len']  = np.array([len(tweet.text) for tweet in tweets])\n",
    "df['ID']   = np.array([tweet.id for tweet in tweets])\n",
    "df['Date'] = np.array([tweet.created_at for tweet in tweets])\n",
    "df['Source'] = np.array([tweet.source for tweet in tweets])\n",
    "df['Likes']  = np.array([tweet.favorite_count for tweet in tweets])\n",
    "df['RTs']    = np.array([tweet.retweet_count for tweet in tweets])"
   ]
  },
  {
   "cell_type": "code",
   "execution_count": 26,
   "metadata": {},
   "outputs": [
    {
     "data": {
      "text/html": [
       "<div>\n",
       "<style scoped>\n",
       "    .dataframe tbody tr th:only-of-type {\n",
       "        vertical-align: middle;\n",
       "    }\n",
       "\n",
       "    .dataframe tbody tr th {\n",
       "        vertical-align: top;\n",
       "    }\n",
       "\n",
       "    .dataframe thead th {\n",
       "        text-align: right;\n",
       "    }\n",
       "</style>\n",
       "<table border=\"1\" class=\"dataframe\">\n",
       "  <thead>\n",
       "    <tr style=\"text-align: right;\">\n",
       "      <th></th>\n",
       "      <th>Tweets</th>\n",
       "      <th>len</th>\n",
       "      <th>ID</th>\n",
       "      <th>Date</th>\n",
       "      <th>Source</th>\n",
       "      <th>Likes</th>\n",
       "      <th>RTs</th>\n",
       "    </tr>\n",
       "  </thead>\n",
       "  <tbody>\n",
       "    <tr>\n",
       "      <th>0</th>\n",
       "      <td>sometimes I have trouble saying no because I w...</td>\n",
       "      <td>66</td>\n",
       "      <td>1007242346763698176</td>\n",
       "      <td>2018-06-14 12:44:23</td>\n",
       "      <td>Twitter for iPhone</td>\n",
       "      <td>81697</td>\n",
       "      <td>29205</td>\n",
       "    </tr>\n",
       "    <tr>\n",
       "      <th>1</th>\n",
       "      <td>this is new for me but it’s just how I feel no...</td>\n",
       "      <td>140</td>\n",
       "      <td>1007242171362054144</td>\n",
       "      <td>2018-06-14 12:43:41</td>\n",
       "      <td>Twitter for iPhone</td>\n",
       "      <td>17654</td>\n",
       "      <td>2855</td>\n",
       "    </tr>\n",
       "    <tr>\n",
       "      <th>2</th>\n",
       "      <td>Who or what is Kanye West with no ego? Just Ye</td>\n",
       "      <td>46</td>\n",
       "      <td>1007240200727089153</td>\n",
       "      <td>2018-06-14 12:35:52</td>\n",
       "      <td>Twitter for iPhone</td>\n",
       "      <td>40525</td>\n",
       "      <td>6638</td>\n",
       "    </tr>\n",
       "    <tr>\n",
       "      <th>3</th>\n",
       "      <td>I killed my ego</td>\n",
       "      <td>15</td>\n",
       "      <td>1007239893481766912</td>\n",
       "      <td>2018-06-14 12:34:38</td>\n",
       "      <td>Twitter for iPhone</td>\n",
       "      <td>37741</td>\n",
       "      <td>8364</td>\n",
       "    </tr>\n",
       "    <tr>\n",
       "      <th>4</th>\n",
       "      <td>your pride can be and will be used against you</td>\n",
       "      <td>46</td>\n",
       "      <td>1007239693291773952</td>\n",
       "      <td>2018-06-14 12:33:51</td>\n",
       "      <td>Twitter for iPhone</td>\n",
       "      <td>27696</td>\n",
       "      <td>9331</td>\n",
       "    </tr>\n",
       "  </tbody>\n",
       "</table>\n",
       "</div>"
      ],
      "text/plain": [
       "                                              Tweets  len  \\\n",
       "0  sometimes I have trouble saying no because I w...   66   \n",
       "1  this is new for me but it’s just how I feel no...  140   \n",
       "2     Who or what is Kanye West with no ego? Just Ye   46   \n",
       "3                                    I killed my ego   15   \n",
       "4     your pride can be and will be used against you   46   \n",
       "\n",
       "                    ID                Date              Source  Likes    RTs  \n",
       "0  1007242346763698176 2018-06-14 12:44:23  Twitter for iPhone  81697  29205  \n",
       "1  1007242171362054144 2018-06-14 12:43:41  Twitter for iPhone  17654   2855  \n",
       "2  1007240200727089153 2018-06-14 12:35:52  Twitter for iPhone  40525   6638  \n",
       "3  1007239893481766912 2018-06-14 12:34:38  Twitter for iPhone  37741   8364  \n",
       "4  1007239693291773952 2018-06-14 12:33:51  Twitter for iPhone  27696   9331  "
      ]
     },
     "execution_count": 26,
     "metadata": {},
     "output_type": "execute_result"
    }
   ],
   "source": [
    "df.head()"
   ]
  },
  {
   "cell_type": "code",
   "execution_count": 28,
   "metadata": {},
   "outputs": [
    {
     "name": "stdout",
     "output_type": "stream",
     "text": [
      "The lenght's average in tweets: 59.135\n"
     ]
    }
   ],
   "source": [
    "mean = np.mean(df['len'])\n",
    "print(\"The lenght's average in tweets: {}\".format(mean))"
   ]
  },
  {
   "cell_type": "code",
   "execution_count": 29,
   "metadata": {},
   "outputs": [
    {
     "name": "stdout",
     "output_type": "stream",
     "text": [
      "The tweet with more likes is: \n",
      "🔥🔥🔥🔥🔥🔥🔥🔥🔥🔥🔥🔥🔥🔥🔥🔥🔥🔥🔥🔥🔥🔥🔥🔥🔥 https://t.co/yEYJP7qrvf\n",
      "Number of likes: 465605\n",
      "49 characters.\n",
      "\n",
      "The tweet with more retweets is: \n",
      "naps are awesome\n",
      "Number of retweets: 185935\n",
      "16 characters.\n",
      "\n"
     ]
    }
   ],
   "source": [
    "# We extract the tweet with more FAVs and more RTs:\n",
    "\n",
    "fav_max = np.max(df['Likes'])\n",
    "rt_max  = np.max(df['RTs'])\n",
    "\n",
    "fav = df[df.Likes == fav_max].index[0]\n",
    "rt  = df[df.RTs == rt_max].index[0]\n",
    "\n",
    "# Max FAVs:\n",
    "print(\"The tweet with more likes is: \\n{}\".format(df['Tweets'][fav]))\n",
    "print(\"Number of likes: {}\".format(fav_max))\n",
    "print(\"{} characters.\\n\".format(df['len'][fav]))\n",
    "\n",
    "# Max RTs:\n",
    "print(\"The tweet with more retweets is: \\n{}\".format(df['Tweets'][rt]))\n",
    "print(\"Number of retweets: {}\".format(rt_max))\n",
    "print(\"{} characters.\\n\".format(df['len'][rt]))"
   ]
  },
  {
   "cell_type": "code",
   "execution_count": 33,
   "metadata": {},
   "outputs": [],
   "source": [
    "# We create time series for data:\n",
    "\n",
    "tlen = pd.Series(data=df['len'].values, index=df['Date'])\n",
    "tfav = pd.Series(data=df['Likes'].values, index=df['Date'])\n",
    "tret = pd.Series(data=df['RTs'].values, index=df['Date'])"
   ]
  },
  {
   "cell_type": "code",
   "execution_count": 40,
   "metadata": {},
   "outputs": [
    {
     "data": {
      "image/png": "[encoded data removed]",
      "text/plain": [
       "<matplotlib.figure.Figure at 0x1a124feac8>"
      ]
     },
     "metadata": {},
     "output_type": "display_data"
    }
   ],
   "source": [
    "# Lenghts along time:\n",
    "tlen.plot(figsize=(16,4), color='r');"
   ]
  },
  {
   "cell_type": "code",
   "execution_count": 37,
   "metadata": {},
   "outputs": [
    {
     "data": {
      "image/png": "[encoded data removed]",
      "text/plain": [
       "<matplotlib.figure.Figure at 0x1a12285a20>"
      ]
     },
     "metadata": {},
     "output_type": "display_data"
    }
   ],
   "source": [
    "# Likes vs retweets visualization:\n",
    "tfav.plot(figsize=(16,4), label=\"Likes\", legend=True)\n",
    "tret.plot(figsize=(16,4), label=\"Retweets\", legend=True);"
   ]
  },
  {
   "cell_type": "code",
   "execution_count": 42,
   "metadata": {},
   "outputs": [
    {
     "name": "stdout",
     "output_type": "stream",
     "text": [
      "Creation of content sources:\n",
      "* Twitter for iPhone\n"
     ]
    }
   ],
   "source": [
    "# We obtain all possible sources:\n",
    "sources = []\n",
    "for source in df['Source']:\n",
    "    if source not in sources:\n",
    "        sources.append(source)\n",
    "\n",
    "# We print sources list:\n",
    "print(\"Creation of content sources:\")\n",
    "for source in sources:\n",
    "    print(\"* {}\".format(source))"
   ]
  },
  {
   "cell_type": "code",
   "execution_count": 43,
   "metadata": {},
   "outputs": [
    {
     "data": {
      "image/png": "[encoded data removed]",
      "text/plain": [
       "<matplotlib.figure.Figure at 0x1a1251e7f0>"
      ]
     },
     "metadata": {},
     "output_type": "display_data"
    }
   ],
   "source": [
    "# We create a numpy vector mapped to labels:\n",
    "percent = np.zeros(len(sources))\n",
    "\n",
    "for source in df['Source']:\n",
    "    for index in range(len(sources)):\n",
    "        if source == sources[index]:\n",
    "            percent[index] += 1\n",
    "            pass\n",
    "\n",
    "percent /= 100\n",
    "\n",
    "# Pie chart:\n",
    "pie_chart = pd.Series(percent, index=sources, name='Sources')\n",
    "pie_chart.plot.pie(fontsize=11, autopct='%.2f', figsize=(6, 6));"
   ]
  },
  {
   "cell_type": "code",
   "execution_count": 44,
   "metadata": {},
   "outputs": [],
   "source": [
    "from textblob import TextBlob\n",
    "import re\n",
    "\n",
    "def clean_tweet(tweet):\n",
    "    '''\n",
    "    Utility function to clean the text in a tweet by removing \n",
    "    links and special characters using regex.\n",
    "    '''\n",
    "    return ' '.join(re.sub(\"(@[A-Za-z0-9]+)|([^0-9A-Za-z \\t])|(\\w+:\\/\\/\\S+)\", \" \", tweet).split())\n",
    "\n",
    "def analize_sentiment(tweet):\n",
    "    '''\n",
    "    Utility function to classify the polarity of a tweet\n",
    "    using textblob.\n",
    "    '''\n",
    "    analysis = TextBlob(clean_tweet(tweet))\n",
    "    if analysis.sentiment.polarity > 0:\n",
    "        return 1\n",
    "    elif analysis.sentiment.polarity == 0:\n",
    "        return 0\n",
    "    else:\n",
    "        return -1"
   ]
  },
  {
   "cell_type": "code",
   "execution_count": 47,
   "metadata": {},
   "outputs": [
    {
     "data": {
      "text/html": [
       "<div>\n",
       "<style scoped>\n",
       "    .dataframe tbody tr th:only-of-type {\n",
       "        vertical-align: middle;\n",
       "    }\n",
       "\n",
       "    .dataframe tbody tr th {\n",
       "        vertical-align: top;\n",
       "    }\n",
       "\n",
       "    .dataframe thead th {\n",
       "        text-align: right;\n",
       "    }\n",
       "</style>\n",
       "<table border=\"1\" class=\"dataframe\">\n",
       "  <thead>\n",
       "    <tr style=\"text-align: right;\">\n",
       "      <th></th>\n",
       "      <th>Tweets</th>\n",
       "      <th>len</th>\n",
       "      <th>ID</th>\n",
       "      <th>Date</th>\n",
       "      <th>Source</th>\n",
       "      <th>Likes</th>\n",
       "      <th>RTs</th>\n",
       "      <th>SA</th>\n",
       "    </tr>\n",
       "  </thead>\n",
       "  <tbody>\n",
       "    <tr>\n",
       "      <th>0</th>\n",
       "      <td>sometimes I have trouble saying no because I w...</td>\n",
       "      <td>66</td>\n",
       "      <td>1007242346763698176</td>\n",
       "      <td>2018-06-14 12:44:23</td>\n",
       "      <td>Twitter for iPhone</td>\n",
       "      <td>81697</td>\n",
       "      <td>29205</td>\n",
       "      <td>-1</td>\n",
       "    </tr>\n",
       "    <tr>\n",
       "      <th>1</th>\n",
       "      <td>this is new for me but it’s just how I feel no...</td>\n",
       "      <td>140</td>\n",
       "      <td>1007242171362054144</td>\n",
       "      <td>2018-06-14 12:43:41</td>\n",
       "      <td>Twitter for iPhone</td>\n",
       "      <td>17654</td>\n",
       "      <td>2855</td>\n",
       "      <td>1</td>\n",
       "    </tr>\n",
       "    <tr>\n",
       "      <th>2</th>\n",
       "      <td>Who or what is Kanye West with no ego? Just Ye</td>\n",
       "      <td>46</td>\n",
       "      <td>1007240200727089153</td>\n",
       "      <td>2018-06-14 12:35:52</td>\n",
       "      <td>Twitter for iPhone</td>\n",
       "      <td>40525</td>\n",
       "      <td>6638</td>\n",
       "      <td>0</td>\n",
       "    </tr>\n",
       "    <tr>\n",
       "      <th>3</th>\n",
       "      <td>I killed my ego</td>\n",
       "      <td>15</td>\n",
       "      <td>1007239893481766912</td>\n",
       "      <td>2018-06-14 12:34:38</td>\n",
       "      <td>Twitter for iPhone</td>\n",
       "      <td>37741</td>\n",
       "      <td>8364</td>\n",
       "      <td>-1</td>\n",
       "    </tr>\n",
       "    <tr>\n",
       "      <th>4</th>\n",
       "      <td>your pride can be and will be used against you</td>\n",
       "      <td>46</td>\n",
       "      <td>1007239693291773952</td>\n",
       "      <td>2018-06-14 12:33:51</td>\n",
       "      <td>Twitter for iPhone</td>\n",
       "      <td>27696</td>\n",
       "      <td>9331</td>\n",
       "      <td>0</td>\n",
       "    </tr>\n",
       "    <tr>\n",
       "      <th>5</th>\n",
       "      <td>be great without pride</td>\n",
       "      <td>22</td>\n",
       "      <td>1007239618041765889</td>\n",
       "      <td>2018-06-14 12:33:33</td>\n",
       "      <td>Twitter for iPhone</td>\n",
       "      <td>17898</td>\n",
       "      <td>5650</td>\n",
       "      <td>1</td>\n",
       "    </tr>\n",
       "    <tr>\n",
       "      <th>6</th>\n",
       "      <td>give without pride</td>\n",
       "      <td>18</td>\n",
       "      <td>1007239543408357377</td>\n",
       "      <td>2018-06-14 12:33:15</td>\n",
       "      <td>Twitter for iPhone</td>\n",
       "      <td>14218</td>\n",
       "      <td>3911</td>\n",
       "      <td>0</td>\n",
       "    </tr>\n",
       "    <tr>\n",
       "      <th>7</th>\n",
       "      <td>https://t.co/GBaHHmLIL3</td>\n",
       "      <td>23</td>\n",
       "      <td>1007052882451968000</td>\n",
       "      <td>2018-06-14 00:11:31</td>\n",
       "      <td>Twitter for iPhone</td>\n",
       "      <td>11391</td>\n",
       "      <td>1321</td>\n",
       "      <td>0</td>\n",
       "    </tr>\n",
       "    <tr>\n",
       "      <th>8</th>\n",
       "      <td>RT @s_lomba1: Thank you for #KidsSeeGhosts , @...</td>\n",
       "      <td>140</td>\n",
       "      <td>1007052712905592832</td>\n",
       "      <td>2018-06-14 00:10:51</td>\n",
       "      <td>Twitter for iPhone</td>\n",
       "      <td>0</td>\n",
       "      <td>1325</td>\n",
       "      <td>1</td>\n",
       "    </tr>\n",
       "    <tr>\n",
       "      <th>9</th>\n",
       "      <td>RT @LuisRagon7: \"Everybody want world peace, t...</td>\n",
       "      <td>139</td>\n",
       "      <td>1007052675714711552</td>\n",
       "      <td>2018-06-14 00:10:42</td>\n",
       "      <td>Twitter for iPhone</td>\n",
       "      <td>0</td>\n",
       "      <td>1907</td>\n",
       "      <td>1</td>\n",
       "    </tr>\n",
       "  </tbody>\n",
       "</table>\n",
       "</div>"
      ],
      "text/plain": [
       "                                              Tweets  len  \\\n",
       "0  sometimes I have trouble saying no because I w...   66   \n",
       "1  this is new for me but it’s just how I feel no...  140   \n",
       "2     Who or what is Kanye West with no ego? Just Ye   46   \n",
       "3                                    I killed my ego   15   \n",
       "4     your pride can be and will be used against you   46   \n",
       "5                             be great without pride   22   \n",
       "6                                 give without pride   18   \n",
       "7                            https://t.co/GBaHHmLIL3   23   \n",
       "8  RT @s_lomba1: Thank you for #KidsSeeGhosts , @...  140   \n",
       "9  RT @LuisRagon7: \"Everybody want world peace, t...  139   \n",
       "\n",
       "                    ID                Date              Source  Likes    RTs  \\\n",
       "0  1007242346763698176 2018-06-14 12:44:23  Twitter for iPhone  81697  29205   \n",
       "1  1007242171362054144 2018-06-14 12:43:41  Twitter for iPhone  17654   2855   \n",
       "2  1007240200727089153 2018-06-14 12:35:52  Twitter for iPhone  40525   6638   \n",
       "3  1007239893481766912 2018-06-14 12:34:38  Twitter for iPhone  37741   8364   \n",
       "4  1007239693291773952 2018-06-14 12:33:51  Twitter for iPhone  27696   9331   \n",
       "5  1007239618041765889 2018-06-14 12:33:33  Twitter for iPhone  17898   5650   \n",
       "6  1007239543408357377 2018-06-14 12:33:15  Twitter for iPhone  14218   3911   \n",
       "7  1007052882451968000 2018-06-14 00:11:31  Twitter for iPhone  11391   1321   \n",
       "8  1007052712905592832 2018-06-14 00:10:51  Twitter for iPhone      0   1325   \n",
       "9  1007052675714711552 2018-06-14 00:10:42  Twitter for iPhone      0   1907   \n",
       "\n",
       "   SA  \n",
       "0  -1  \n",
       "1   1  \n",
       "2   0  \n",
       "3  -1  \n",
       "4   0  \n",
       "5   1  \n",
       "6   0  \n",
       "7   0  \n",
       "8   1  \n",
       "9   1  "
      ]
     },
     "metadata": {},
     "output_type": "display_data"
    }
   ],
   "source": [
    "# We create a column with the result of the analysis:\n",
    "df['SA'] = np.array([ analize_sentiment(tweet) for tweet in df['Tweets'] ])\n",
    "\n",
    "# We display the updated dataframe with the new column:\n",
    "display(df.head(10))"
   ]
  },
  {
   "cell_type": "code",
   "execution_count": 50,
   "metadata": {},
   "outputs": [
    {
     "name": "stdout",
     "output_type": "stream",
     "text": [
      "Percentage of positive tweets: 29.0%\n",
      "Percentage of neutral tweets: 63.5%\n",
      "Percentage de negative tweets: 7.5%\n"
     ]
    }
   ],
   "source": [
    "# We construct lists with classified tweets:\n",
    "\n",
    "pos_tweets = [ tweet for index, tweet in enumerate(df['Tweets']) if df['SA'][index] > 0]\n",
    "neu_tweets = [ tweet for index, tweet in enumerate(df['Tweets']) if df['SA'][index] == 0]\n",
    "neg_tweets = [ tweet for index, tweet in enumerate(df['Tweets']) if df['SA'][index] < 0]\n",
    "\n",
    "print(\"Percentage of positive tweets: {}%\".format(len(pos_tweets)*100/len(df['Tweets'])))\n",
    "print(\"Percentage of neutral tweets: {}%\".format(len(neu_tweets)*100/len(df['Tweets'])))\n",
    "print(\"Percentage de negative tweets: {}%\".format(len(neg_tweets)*100/len(df['Tweets'])))\n"
   ]
  },
  {
   "cell_type": "code",
   "execution_count": null,
   "metadata": {},
   "outputs": [],
   "source": []
  },
  {
   "cell_type": "code",
   "execution_count": null,
   "metadata": {},
   "outputs": [],
   "source": []
  },
  {
   "cell_type": "code",
   "execution_count": null,
   "metadata": {},
   "outputs": [],
   "source": []
  },
  {
   "cell_type": "code",
   "execution_count": null,
   "metadata": {},
   "outputs": [],
   "source": []
  },
  {
   "cell_type": "markdown",
   "metadata": {},
   "source": [
    "**2)** Create a graph of polarity to determine whether the trend over time is a positive one or a negative one. *Hint*: you will have to define a StreamListener instance to continuously listen in on a specific topic and then graph the polarity to showcase the trend (i.e. positive or negative)\n"
   ]
  },
  {
   "cell_type": "code",
   "execution_count": null,
   "metadata": {},
   "outputs": [],
   "source": []
  },
  {
   "cell_type": "code",
   "execution_count": null,
   "metadata": {},
   "outputs": [],
   "source": []
  },
  {
   "cell_type": "code",
   "execution_count": null,
   "metadata": {},
   "outputs": [],
   "source": []
  },
  {
   "cell_type": "code",
   "execution_count": null,
   "metadata": {},
   "outputs": [],
   "source": []
  }
 ],
 "metadata": {
  "accelerator": "GPU",
  "colab": {
   "collapsed_sections": [],
   "name": "Th11_CC--DJ--NLP_Coding_Challenge_#4.ipynb",
   "provenance": [],
   "version": "0.3.2"
  },
  "kernelspec": {
   "display_name": "Python 3",
   "language": "python",
   "name": "python3"
  },
  "language_info": {
   "codemirror_mode": {
    "name": "ipython",
    "version": 3
   },
   "file_extension": ".py",
   "mimetype": "text/x-python",
   "name": "python",
   "nbconvert_exporter": "python",
   "pygments_lexer": "ipython3",
   "version": "3.6.4"
  }
 },
 "nbformat": 4,
 "nbformat_minor": 2
}
