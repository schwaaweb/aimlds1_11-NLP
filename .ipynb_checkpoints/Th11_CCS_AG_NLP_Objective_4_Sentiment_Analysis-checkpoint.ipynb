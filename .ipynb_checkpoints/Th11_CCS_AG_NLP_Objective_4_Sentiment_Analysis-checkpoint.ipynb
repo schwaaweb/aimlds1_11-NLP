{
  "nbformat": 4,
  "nbformat_minor": 0,
  "metadata": {
    "colab": {
      "name": "Th11_CCS--AG--NLP_Objective_4_Sentiment_Analysis.ipynb",
      "version": "0.3.2",
      "provenance": [],
      "collapsed_sections": []
    },
    "kernelspec": {
      "name": "python3",
      "display_name": "Python 3"
    },
    "accelerator": "GPU"
  },
  "cells": [
    {
      "cell_type": "markdown",
      "metadata": {
        "id": "view-in-github",
        "colab_type": "text"
      },
      "source": [
        "[View in Colaboratory](https://colab.research.google.com/github/schwaaweb/aimlds1_11-NLP/blob/master/Th11_CCS_AG_NLP_Objective_4_Sentiment_Analysis.ipynb)"
      ]
    },
    {
      "metadata": {
        "id": "5k343f0vLNTY",
        "colab_type": "text"
      },
      "cell_type": "markdown",
      "source": [
        "### Objective 4:  Conduct Sentiment Analysis"
      ]
    },
    {
      "metadata": {
        "id": "9YnMyCQ4LUx9",
        "colab_type": "text"
      },
      "cell_type": "markdown",
      "source": [
        "Sentiment Analysis which focuses on analyzing sentiment of various text resources ranging from corporate feedback surveys to movie reviews is probably the most popular application of text analytics. The main aspect of sentiment analysis is to analyze a body of text in order to decipher the opinion expressed by it including factors like emotion, feelings and mood. "
      ]
    },
    {
      "metadata": {
        "id": "_5iB3-ub0NSa",
        "colab_type": "text"
      },
      "cell_type": "markdown",
      "source": [
        "**When does \"Sentiment Analysis\" work best?**"
      ]
    },
    {
      "metadata": {
        "id": "M4OY2dsh0WrE",
        "colab_type": "text"
      },
      "cell_type": "markdown",
      "source": [
        "\n",
        "Sentiment Analysis works best on text that has a subjective context rather than an objective context. When a body of text has an objective perspective, it usually reflects real factual statements with no emotion or feelings associated with it. In contrast, subjective text includes opinions encompassing emotions and feelings that are expressed by humans. Given the proliferation of social media channels, Sentiment Analysis is increasingly being leveraged by a host of entities (be it a business, a public sector organization, government, etc.) to extract the subjective and opinion related information like emotions, attitude, mood and use the extracted subjective information to the detect the sentiment of people."
      ]
    },
    {
      "metadata": {
        "id": "Fwj1cZJh0xRk",
        "colab_type": "text"
      },
      "cell_type": "markdown",
      "source": [
        "**What is covered in this objective?**"
      ]
    },
    {
      "metadata": {
        "id": "r-NA-PsS0anP",
        "colab_type": "text"
      },
      "cell_type": "markdown",
      "source": [
        "In a nutshell, sentiment analysis can be defined as a classification problem in which the classification is either —binary classification (positive or negative) and multi-class classification (positive, negative, or neutral). \n",
        "\n",
        "Within this objective, we will explore a range of related topics encompassing **1)** Constructing a Sentiment Analysis Model, **2)** Determining the subjectivity of text, **3)** Examining the intensity or polarity of a sentiment and **4)** Performing sentiment analysis on tweets. "
      ]
    },
    {
      "metadata": {
        "id": "ntPfbgJP1lKj",
        "colab_type": "text"
      },
      "cell_type": "markdown",
      "source": [
        "**Utilize a Sentiment Dictionary to decipher the sentiment of text**\n",
        "\n",
        "A sentiment dictionary is the mapping of words to sentiment values. For example: the word awesome (which is a positive sentiment) could have a value of +3.7 and the word horrible (which is a negative sentiment) could have a value of -3.1. While using a sentiment dictionary, the values of the sentiment words are summed to get the overall sentiment of the text. \n",
        "\n",
        "For example: I loved the ambience of the restaurant but the drive to the restaurant was horrendous. Overall, it was a good evening.\n",
        "\n",
        "Now let's say the value of the word love is +3.9, the value of the word horrendous is -4.2 and the value of the word good is +2.9. So, the overall sentiment of the text is positive since the aggregate of the values of the sentiment words is positive. \n",
        "\n",
        "To decipher the sentiment of text, we will utilize NLTK's **VADER** Sentiment Tool. VADER stands for Valence Aware Dictionary for Sentiment Reasoning. The dictionary was designed specifically for Twitter and contains emoticons and slang. It also provides support for sentiment intensifiers  (words such as incredibly funny) and negations (words such as \"not bad\" which is a slight/small positive sentiment). \n",
        "\n",
        "How it works? VADER analyzes a piece of text to check if any of the words in the text are present in the lexicon. It  produces 4 sentiment metrics from the word ratings i.e. positive, neutral, negative and compound. The compound score is the sum of all of the lexicon ratings which is standardized to a range between -1 and 1."
      ]
    },
    {
      "metadata": {
        "id": "J12Z1F_MJnev",
        "colab_type": "code",
        "colab": {
          "base_uri": "https://localhost:8080/",
          "height": 102
        },
        "outputId": "f690290a-f553-4b41-e0f0-0a64eab7424b"
      },
      "cell_type": "code",
      "source": [
        "# Install the VADER Sentiment Tool\n",
        "\n",
        "!pip install vaderSentiment"
      ],
      "execution_count": 0,
      "outputs": [
        {
          "output_type": "stream",
          "text": [
            "Collecting vaderSentiment\n",
            "\u001b[?25l  Downloading https://files.pythonhosted.org/packages/86/9e/c53e1fc61aac5ee490a6ac5e21b1ac04e55a7c2aba647bb8411c9aadf24e/vaderSentiment-3.2.1-py2.py3-none-any.whl (125kB)\n",
            "\u001b[K    100% |████████████████████████████████| 133kB 5.4MB/s \n",
            "\u001b[?25hInstalling collected packages: vaderSentiment\n",
            "Successfully installed vaderSentiment-3.2.1\n"
          ],
          "name": "stdout"
        }
      ]
    },
    {
      "metadata": {
        "id": "5FzqveioJyRV",
        "colab_type": "code",
        "colab": {
          "base_uri": "https://localhost:8080/",
          "height": 34
        },
        "outputId": "59d94179-fc59-4dcb-ae8f-0871c870d533"
      },
      "cell_type": "code",
      "source": [
        "#Load the SentimentIntensityAnalyzer object from the VADER package\n",
        "from vaderSentiment.vaderSentiment import SentimentIntensityAnalyzer\n",
        "\n",
        "#Create a handle to the SentimentIntensityAnalyzer object\n",
        "analyzer = SentimentIntensityAnalyzer()\n",
        "\n",
        "#function that outputs the sentiment ratings\n",
        "def print_sentiment_ratings(sentence):\n",
        "    sent = analyzer.polarity_scores(sentence)\n",
        "    print(\"{} {}\".format(sentence, sent))\n",
        "    \n",
        "#Examining the sentiment ratings for different pieces of text\n",
        "#No sentiment expressed\n",
        "\n",
        "print_sentiment_ratings(\"I have to work on the weekend\")\n",
        "\n",
        "#Overall rating is neutral"
      ],
      "execution_count": 0,
      "outputs": [
        {
          "output_type": "stream",
          "text": [
            "I have to work on the weekend {'neg': 0.0, 'neu': 1.0, 'pos': 0.0, 'compound': 0.0}\n"
          ],
          "name": "stdout"
        }
      ]
    },
    {
      "metadata": {
        "id": "KDQlgUieLJss",
        "colab_type": "code",
        "colab": {
          "base_uri": "https://localhost:8080/",
          "height": 34
        },
        "outputId": "6935c389-e25f-4296-9bbc-9488791a05eb"
      },
      "cell_type": "code",
      "source": [
        "#Sentiment expressed via emoticon\n",
        "\n",
        "print_sentiment_ratings(\"I have to work on the weekend :(\")\n",
        "\n",
        "#Overall rating is negative"
      ],
      "execution_count": 0,
      "outputs": [
        {
          "output_type": "stream",
          "text": [
            "I have to work on the weekend :( {'neg': 0.326, 'neu': 0.674, 'pos': 0.0, 'compound': -0.4404}\n"
          ],
          "name": "stdout"
        }
      ]
    },
    {
      "metadata": {
        "id": "Em_xiNhzLhpZ",
        "colab_type": "code",
        "colab": {
          "base_uri": "https://localhost:8080/",
          "height": 34
        },
        "outputId": "8a9d4419-456c-445a-c05b-4e29790f5c4b"
      },
      "cell_type": "code",
      "source": [
        "#Expressing a more intense feeling via 2 emoticons\n",
        "\n",
        "print_sentiment_ratings(\"I have to work on the weekend :( :(\")\n",
        "\n",
        "#Overall rating is even more negative than the above piece of text"
      ],
      "execution_count": 0,
      "outputs": [
        {
          "output_type": "stream",
          "text": [
            "I have to work on the weekend :( :( {'neg': 0.492, 'neu': 0.508, 'pos': 0.0, 'compound': -0.7003}\n"
          ],
          "name": "stdout"
        }
      ]
    },
    {
      "metadata": {
        "id": "WClSIBHHL1q-",
        "colab_type": "code",
        "colab": {
          "base_uri": "https://localhost:8080/",
          "height": 51
        },
        "outputId": "e4acb59d-501a-4c19-eb02-908e64df5150"
      },
      "cell_type": "code",
      "source": [
        "#VADER handles emotion intensifiers (i.e. words such as very, really, super, etc.)\n",
        "\n",
        "print_sentiment_ratings(\"I did well on the test\")\n",
        "\n",
        "#The sentiment rating for the sentence below is higher than the one above\n",
        "\n",
        "print_sentiment_ratings(\"I did very well on the test\")"
      ],
      "execution_count": 0,
      "outputs": [
        {
          "output_type": "stream",
          "text": [
            "I did well on the test {'neg': 0.0, 'neu': 0.656, 'pos': 0.344, 'compound': 0.2732}\n",
            "I did very well on the test {'neg': 0.0, 'neu': 0.676, 'pos': 0.324, 'compound': 0.3384}\n"
          ],
          "name": "stdout"
        }
      ]
    },
    {
      "metadata": {
        "id": "feLIyvQ9L8wR",
        "colab_type": "code",
        "colab": {
          "base_uri": "https://localhost:8080/",
          "height": 51
        },
        "outputId": "0fccbce4-bfa9-452b-d42b-3751a72a4e88"
      },
      "cell_type": "code",
      "source": [
        "#VADER takes into consideration how the words are written - capitalization has an impact on the sentiment ratings\n",
        "\n",
        "print_sentiment_ratings(\"I had a super day\")\n",
        "\n",
        "#The sentiment rating for the sentence below is higher than the one above\n",
        "\n",
        "print_sentiment_ratings(\"I had a SUPER day\")"
      ],
      "execution_count": 0,
      "outputs": [
        {
          "output_type": "stream",
          "text": [
            "I had a super day {'neg': 0.0, 'neu': 0.339, 'pos': 0.661, 'compound': 0.5994}\n",
            "I had a SUPER day {'neg': 0.0, 'neu': 0.302, 'pos': 0.698, 'compound': 0.6841}\n"
          ],
          "name": "stdout"
        }
      ]
    },
    {
      "metadata": {
        "id": "uJbkEr21MFz2",
        "colab_type": "code",
        "colab": {
          "base_uri": "https://localhost:8080/",
          "height": 34
        },
        "outputId": "c6a0f536-968d-44b8-b63a-bc1be7899a7b"
      },
      "cell_type": "code",
      "source": [
        "#Finally, VADER handles changes in sentiment intensity; specifically when a sentence contains the word \"but\". Higher weighting is given to the sentiment after the word \"but\".\n",
        "#The overall rating for the sentence below is negative\n",
        "\n",
        "print_sentiment_ratings(\" I loved the ambience of the restaurant but the drive to the restaurant was horrendous\")"
      ],
      "execution_count": 0,
      "outputs": [
        {
          "output_type": "stream",
          "text": [
            " I loved the ambience of the restaurant but the drive to the restaurant was horrendous {'neg': 0.265, 'neu': 0.611, 'pos': 0.125, 'compound': -0.5789}\n"
          ],
          "name": "stdout"
        }
      ]
    },
    {
      "metadata": {
        "id": "PWWdLjlbPJAY",
        "colab_type": "text"
      },
      "cell_type": "markdown",
      "source": [
        "**Build a Twitter Sentiment Analyzer**"
      ]
    },
    {
      "metadata": {
        "id": "7LFGn_ksPLH1",
        "colab_type": "text"
      },
      "cell_type": "markdown",
      "source": [
        "A common question that often arises is how do I decipher the sentiment within a large set of tweets regarding a specific topic on Twitter in an autonomous fashion. Now, we will construct a Twitter Sentiment Analyzer. The Sentiment Analyzer will search twitter for a list of tweets about any topic of choice, then it will analyze each tweet to ascertain whether a positive or negative emotion is expressed in the tweet. "
      ]
    },
    {
      "metadata": {
        "id": "5re99BmbW7Tk",
        "colab_type": "text"
      },
      "cell_type": "markdown",
      "source": [
        "**Prerequisites:**"
      ]
    },
    {
      "metadata": {
        "id": "unMv2p42XcrP",
        "colab_type": "text"
      },
      "cell_type": "markdown",
      "source": [
        "Before we go through the tutorial, the following items need to be taken care of:\n",
        "\n",
        "**1)** Register for the Twitter API - a) Go to https://apps.twitter.com, b) click on \"Create New Application\", c) Under Application details, enter name, description, website details (can be anything), d) click on \"Create Application\" and e) make a note of the tokens on the \"Keys and Access Tokens\" tab\n",
        " \n",
        "**2) **Install dependencies: a) pip install tweepy - library for accessing the twitter API, b) textblob (pip install textblob) which will facilitate the actual task of performing sentiment analysis"
      ]
    },
    {
      "metadata": {
        "id": "oWMCi3alY2em",
        "colab_type": "code",
        "colab": {
          "base_uri": "https://localhost:8080/",
          "height": 136
        },
        "outputId": "916d8c4b-df13-44cd-85c1-30c8840a21a3"
      },
      "cell_type": "code",
      "source": [
        "!pip install -U textblob"
      ],
      "execution_count": 0,
      "outputs": [
        {
          "output_type": "stream",
          "text": [
            "Collecting textblob\n",
            "\u001b[?25l  Downloading https://files.pythonhosted.org/packages/11/18/7f55c8be6d68ddc4036ffda5382ca51e23a1075987f708b9123712091af1/textblob-0.15.1-py2.py3-none-any.whl (631kB)\n",
            "\u001b[K    100% |████████████████████████████████| 634kB 7.4MB/s \n",
            "\u001b[?25hRequirement not upgraded as not directly required: nltk>=3.1 in /usr/local/lib/python3.6/dist-packages (from textblob) (3.2.5)\n",
            "Requirement not upgraded as not directly required: six in /usr/local/lib/python3.6/dist-packages (from nltk>=3.1->textblob) (1.11.0)\n",
            "Installing collected packages: textblob\n",
            "Successfully installed textblob-0.15.1\n"
          ],
          "name": "stdout"
        }
      ]
    },
    {
      "metadata": {
        "id": "PY1_JmvfY75D",
        "colab_type": "code",
        "colab": {
          "base_uri": "https://localhost:8080/",
          "height": 272
        },
        "outputId": "20b92edb-ecad-417b-a802-7469cea37265"
      },
      "cell_type": "code",
      "source": [
        "!python -m textblob.download_corpora"
      ],
      "execution_count": 0,
      "outputs": [
        {
          "output_type": "stream",
          "text": [
            "[nltk_data] Downloading package brown to /content/nltk_data...\r\n",
            "[nltk_data]   Package brown is already up-to-date!\r\n",
            "[nltk_data] Downloading package punkt to /content/nltk_data...\n",
            "[nltk_data]   Package punkt is already up-to-date!\n",
            "[nltk_data] Downloading package wordnet to /content/nltk_data...\n",
            "[nltk_data]   Package wordnet is already up-to-date!\n",
            "[nltk_data] Downloading package averaged_perceptron_tagger to\n",
            "[nltk_data]     /content/nltk_data...\n",
            "[nltk_data]   Package averaged_perceptron_tagger is already up-to-\n",
            "[nltk_data]       date!\n",
            "[nltk_data] Downloading package conll2000 to /content/nltk_data...\n",
            "[nltk_data]   Package conll2000 is already up-to-date!\n",
            "[nltk_data] Downloading package movie_reviews to /content/nltk_data...\n",
            "[nltk_data]   Package movie_reviews is already up-to-date!\n",
            "Finished.\n"
          ],
          "name": "stdout"
        }
      ]
    },
    {
      "metadata": {
        "id": "ueX7EWVJXi3g",
        "colab_type": "code",
        "colab": {
          "base_uri": "https://localhost:8080/",
          "height": 34
        },
        "outputId": "75c308cf-1438-4909-d93d-e71b3cb21d94"
      },
      "cell_type": "code",
      "source": [
        "#Test drive TextBlob\n",
        "from textblob import TextBlob\n",
        "\n",
        "#Initialize a variable\n",
        "txtblob = TextBlob(\"Lambda School is awesome.\")\n",
        "\n",
        "#Get the POS\n",
        "txtblob.tags\n",
        "\n",
        "#Tokenize the text\n",
        "txtblob.words\n",
        "\n",
        "#Examine the polarity of the sentiment expressed in the text\n",
        "#It is a positive statement\n",
        "txtblob.sentiment.polarity"
      ],
      "execution_count": 0,
      "outputs": [
        {
          "output_type": "execute_result",
          "data": {
            "text/plain": [
              "1.0"
            ]
          },
          "metadata": {
            "tags": []
          },
          "execution_count": 24
        }
      ]
    },
    {
      "metadata": {
        "id": "gxA8js51cQk4",
        "colab_type": "text"
      },
      "cell_type": "markdown",
      "source": [
        "**Install tweepy**"
      ]
    },
    {
      "metadata": {
        "id": "9HpooHlBcTuI",
        "colab_type": "code",
        "colab": {
          "base_uri": "https://localhost:8080/",
          "height": 340
        },
        "outputId": "b289ca63-fce0-4471-c560-6deb8a9ff507"
      },
      "cell_type": "code",
      "source": [
        "!pip install tweepy"
      ],
      "execution_count": 0,
      "outputs": [
        {
          "output_type": "stream",
          "text": [
            "Collecting tweepy\n",
            "  Downloading https://files.pythonhosted.org/packages/05/f1/2e8c7b202dd04117a378ac0c55cc7dafa80280ebd7f692f1fa8f27fd6288/tweepy-3.6.0-py2.py3-none-any.whl\n",
            "Requirement already satisfied: six>=1.10.0 in /usr/local/lib/python3.6/dist-packages (from tweepy) (1.11.0)\n",
            "Collecting PySocks>=1.5.7 (from tweepy)\n",
            "\u001b[?25l  Downloading https://files.pythonhosted.org/packages/53/12/6bf1d764f128636cef7408e8156b7235b150ea31650d0260969215bb8e7d/PySocks-1.6.8.tar.gz (283kB)\n",
            "\u001b[K    100% |████████████████████████████████| 286kB 10.0MB/s \n",
            "\u001b[?25hRequirement already satisfied: requests>=2.11.1 in /usr/local/lib/python3.6/dist-packages (from tweepy) (2.18.4)\n",
            "Requirement already satisfied: requests-oauthlib>=0.7.0 in /usr/local/lib/python3.6/dist-packages (from tweepy) (0.8.0)\n",
            "Requirement already satisfied: idna<2.7,>=2.5 in /usr/local/lib/python3.6/dist-packages (from requests>=2.11.1->tweepy) (2.6)\n",
            "Requirement already satisfied: certifi>=2017.4.17 in /usr/local/lib/python3.6/dist-packages (from requests>=2.11.1->tweepy) (2018.4.16)\n",
            "Requirement already satisfied: urllib3<1.23,>=1.21.1 in /usr/local/lib/python3.6/dist-packages (from requests>=2.11.1->tweepy) (1.22)\n",
            "Requirement already satisfied: chardet<3.1.0,>=3.0.2 in /usr/local/lib/python3.6/dist-packages (from requests>=2.11.1->tweepy) (3.0.4)\n",
            "Requirement already satisfied: oauthlib>=0.6.2 in /usr/local/lib/python3.6/dist-packages (from requests-oauthlib>=0.7.0->tweepy) (2.0.7)\n",
            "Building wheels for collected packages: PySocks\n",
            "  Running setup.py bdist_wheel for PySocks ... \u001b[?25l-\b \bdone\n",
            "\u001b[?25h  Stored in directory: /content/.cache/pip/wheels/22/5c/b5/12e0dfdfa85bea67b23628b6425fae715c687e947a45ee3df9\n",
            "Successfully built PySocks\n",
            "Installing collected packages: PySocks, tweepy\n",
            "Successfully installed PySocks-1.6.8 tweepy-3.6.0\n"
          ],
          "name": "stdout"
        }
      ]
    },
    {
      "metadata": {
        "id": "g1Bf5BqPalbs",
        "colab_type": "text"
      },
      "cell_type": "markdown",
      "source": [
        "**Authenticate with Twitter**"
      ]
    },
    {
      "metadata": {
        "id": "LoqLIpUzasOs",
        "colab_type": "code",
        "colab": {}
      },
      "cell_type": "code",
      "source": [
        "#Import tweepy\n",
        "import tweepy\n",
        "\n",
        "#Define 4 variables for authenticating with Twitter\n",
        "#Each student will have their own unique tokens\n",
        "consumer_key = 't6aDjhHKCJZBmEd674ZnX9grJ'\n",
        "consumer_secret= 'dSzM4f8JFSD2JvYpDcHYtmSVFzie9i2qAShn0ysaRGZZ6O1w6E'\n",
        "\n",
        "access_token = '971947907678052352-IZ54wT1yQHZWvRzqrXtnby2g67WzApC'\n",
        "access_token_secret = 'VdbKEOWSRfeIWVPUpJZaxpM71gc8c4gScAXrsi0X4s1El'\n",
        "\n",
        "#Autenticate with Twitter\n",
        "authen = tweepy.OAuthHandler(consumer_key, consumer_secret)\n",
        "authen.set_access_token(access_token, access_token_secret)"
      ],
      "execution_count": 0,
      "outputs": []
    },
    {
      "metadata": {
        "id": "KmJOw_2qbmfR",
        "colab_type": "text"
      },
      "cell_type": "markdown",
      "source": [
        "**Search twitter for a list of tweets about any topic of choice, then it will analyze each tweet to ascertain whether a positive or negative emotion is expressed in the tweet. **"
      ]
    },
    {
      "metadata": {
        "id": "HgGtygqobmui",
        "colab_type": "code",
        "colab": {
          "base_uri": "https://localhost:8080/",
          "height": 612
        },
        "outputId": "579b54d5-37ba-42b9-daac-f638c82abf38"
      },
      "cell_type": "code",
      "source": [
        "#Get a connection to Twitter\n",
        "tweetapi = tweepy.API(authen)\n",
        "\n",
        "#This method is going to return tweets that contain the word \n",
        "visible_public_tweets = tweetapi.search('Gates')\n",
        "\n",
        "#Iterate through the tweets that have been retrieved\n",
        "#Examine the polarity (positive or negative the tweet is) and the subjectivity (how much of an opinion it is)\n",
        "\n",
        "for tweet in visible_public_tweets:\n",
        "    print(tweet.text)\n",
        "    sentimentAnalyzer = TextBlob(tweet.text)\n",
        "    print(sentimentAnalyzer.sentiment)"
      ],
      "execution_count": 0,
      "outputs": [
        {
          "output_type": "stream",
          "text": [
            "RT @Anjana92739275: This is the state \n",
            "Of present Cantt after opening the gates of Cantt for all https://t.co/cDLn7rmYvW\n",
            "Sentiment(polarity=0.0, subjectivity=0.0)\n",
            "RT @jojjeols: Attached: Photo of the gates to one of the camps for political re-education which are holding up to a million Uyghurs and oth…\n",
            "Sentiment(polarity=0.0, subjectivity=0.1)\n",
            "It’s Bill Gates... Be cool, be cool! 😏 #9BigBangTheory https://t.co/CsRSpauuhz\n",
            "Sentiment(polarity=0.39375, subjectivity=0.65)\n",
            "Las mejores frases de Bill Gates sobre el éxito y el liderazgo - Invoca https://t.co/dDUTicBWQI\n",
            "Sentiment(polarity=0.0, subjectivity=0.0)\n",
            "RT @RonSkywalkerr: Niggas teeth look like heavens gates https://t.co/red83yfCzd\n",
            "Sentiment(polarity=0.0, subjectivity=0.0)\n",
            "@AndreasMeyerZAR @JGvanZyl_ZA @Retroman_67 @TomorrowWillBe4 @Gates_Baloyi @swart_braam @xols1 @capi2274 @CarlBotha2… https://t.co/CsGUeN3f5w\n",
            "Sentiment(polarity=0.0, subjectivity=0.0)\n",
            "😂😂😂 #GatesMcFadden #DailyDoseOfGates #BeverlyCrusher #StarTrekTNG @gates_mcfadden @gates_plays https://t.co/xJat413kcK\n",
            "Sentiment(polarity=0.0, subjectivity=0.0)\n",
            "RT @NancyStevensMk: I'm in awe of my 2 very young but prodigiously talented guests AJ Gates &amp; Abbie North inspired by their wonderful teach…\n",
            "Sentiment(polarity=0.61, subjectivity=0.8066666666666666)\n",
            "RT @HBogart27: 🤔Since TE Antonio Gates entered the league 16 years ago, just how many former B-Ball players turning TE actually worked out…\n",
            "Sentiment(polarity=0.16666666666666666, subjectivity=0.19999999999999998)\n",
            "Check out Bill Gates' top picks for summer reading: https://t.co/CGgYg0XiiL https://t.co/AJtuKpaI3m\n",
            "Sentiment(polarity=0.5, subjectivity=0.5)\n",
            "RT @safimichael: Number of Indians who died from excessive heat in 2015: 2,040\n",
            "In 2017: bit over 200\n",
            "At mid May this year: 11\n",
            "\n",
            "How a series…\n",
            "Sentiment(polarity=-0.125, subjectivity=0.5)\n",
            "4 Enter his gates with thanksgiving and his courts with praise; give thanks to him and praise his name. #WordAlert https://t.co/Jw7oeWGCI1\n",
            "Sentiment(polarity=0.2, subjectivity=0.2)\n",
            "RT @Oba_Demarre: Kevin Gates speaking knowledge. #RelationshipAdvice pay attention and you might learn somethin. https://t.co/tKeGHcsfFl\n",
            "Sentiment(polarity=0.0, subjectivity=0.0)\n",
            "RT @authorMsBev: There’s no HEA in trying to trademark basic words. All you get is your cocky head on a pike outside the gates of Romancela…\n",
            "Sentiment(polarity=-0.06666666666666667, subjectivity=0.35833333333333334)\n",
            "@thehill How? he was a Ronald Reagan democrat and would have made deals to damage the social safety net just life r… https://t.co/I2DMObWmhg\n",
            "Sentiment(polarity=0.016666666666666666, subjectivity=0.03333333333333333)\n"
          ],
          "name": "stdout"
        }
      ]
    },
    {
      "metadata": {
        "id": "sDLNbxaRfoT3",
        "colab_type": "text"
      },
      "cell_type": "markdown",
      "source": [
        "**Graph sentiment polarity extracted from tweets**"
      ]
    },
    {
      "metadata": {
        "id": "a8xEqTtRf1f2",
        "colab_type": "text"
      },
      "cell_type": "markdown",
      "source": [
        "In the code above, we explored how to connect to Twitter, fetched tweets from twitter on a specific topic and then examined the sentiment of the tweets (i.e. polarity and subjectivity). As discussed earlier, the polarity score is a float within the range [-1.0, 1.0] where a score greater than 0.0 indicates positive sentiment whereas a score less than 0.0 indicates negative sentiment. The subjectivity score is a float within the range [0.0, 1.0] where 0.0 is very objective and 1.0 is very subjective. \n",
        "\n",
        "From the output of the previous example, it is hard to ascertain how the sentiment is trending over time. You could glance through the output and make an educated guess as to how the sentiment is trending. However a more efficient way to decipher how the sentiment is trending would be to graph the polarity to determine whether the trend over time is a positive one or a negative one.\n",
        "\n",
        "Now, we will create a listener class that continuously listens for tweets on a specific topic, writes the polarity of the fetched tweets to file and then graphs the polarity data so that it becomes easy to discern the trend over time."
      ]
    },
    {
      "metadata": {
        "id": "mS6Jlk1dgZt0",
        "colab_type": "code",
        "colab": {
          "base_uri": "https://localhost:8080/",
          "height": 2390
        },
        "outputId": "37ccce43-9efb-4668-9430-664dcdd3cb8b"
      },
      "cell_type": "code",
      "source": [
        "# In Tweepy, an instance of tweepy.Stream establishes a streaming session and\n",
        "# routes messages to StreamListener instance.\n",
        "# So first, we need to import the  equisite classes\n",
        "\n",
        "from tweepy import Stream\n",
        "from tweepy.streaming import StreamListener\n",
        "import json\n",
        "\n",
        "# get the tweets on a specific topic and write the polarity to file\n",
        "class Listener(StreamListener):\n",
        "    def on_data(self, data):\n",
        "        all_data = json.loads(data)\n",
        "        tweet = all_data[\"text\"]\n",
        "        sentimentAnalyzer = TextBlob(tweet)\n",
        "        print(sentimentAnalyzer.sentiment)\n",
        "        polarity = sentimentAnalyzer.sentiment.polarity\n",
        "        #subjectivity = sentimentAnalyzer.sentiment.subjectivity\n",
        "        output = open(\"/tmp/twitter-out.txt\",\"a\")\n",
        "        output.write(str(polarity))\n",
        "        output.write('\\n')\n",
        "        output.close()\n",
        "\n",
        "        return True\n",
        "\n",
        "    def on_error(self, status):\n",
        "        print(status)\n",
        "\n",
        "# Authenticate with Twitter\n",
        "authen = tweepy.OAuthHandler(consumer_key, consumer_secret)\n",
        "authen.set_access_token(access_token, access_token_secret)\n",
        "\n",
        "# Establish a streaming section and route messages to the StreamListener\n",
        "listener = Listener()\n",
        "twitterStream = Stream(authen, listener)\n",
        "\n",
        "# Track tweets related to Musk\n",
        "twitterStream.filter(track=[\"Musk\"])"
      ],
      "execution_count": 0,
      "outputs": [
        {
          "output_type": "stream",
          "text": [
            "Sentiment(polarity=0.0, subjectivity=0.1)\n",
            "Sentiment(polarity=0.0, subjectivity=0.1)\n",
            "Sentiment(polarity=0.0, subjectivity=0.1)\n",
            "Sentiment(polarity=0.0, subjectivity=0.0)\n",
            "Sentiment(polarity=0.0, subjectivity=0.1)\n",
            "Sentiment(polarity=-0.375, subjectivity=0.55)\n",
            "Sentiment(polarity=0.0, subjectivity=0.0)\n",
            "Sentiment(polarity=0.0, subjectivity=0.0)\n",
            "Sentiment(polarity=0.0, subjectivity=0.1)\n",
            "Sentiment(polarity=0.0, subjectivity=0.0)\n",
            "Sentiment(polarity=0.0, subjectivity=0.1)\n",
            "Sentiment(polarity=0.0, subjectivity=0.1)\n",
            "Sentiment(polarity=0.0, subjectivity=0.0)\n",
            "Sentiment(polarity=0.0, subjectivity=0.0)\n",
            "Sentiment(polarity=0.0, subjectivity=0.0)\n",
            "Sentiment(polarity=0.0, subjectivity=0.1)\n",
            "Sentiment(polarity=0.0, subjectivity=0.1)\n",
            "Sentiment(polarity=0.0, subjectivity=0.1)\n",
            "Sentiment(polarity=0.0, subjectivity=0.0)\n",
            "Sentiment(polarity=0.0, subjectivity=0.1)\n",
            "Sentiment(polarity=-0.125, subjectivity=0.375)\n",
            "Sentiment(polarity=0.0, subjectivity=0.1)\n",
            "Sentiment(polarity=0.0, subjectivity=0.1)\n",
            "Sentiment(polarity=0.0, subjectivity=0.0)\n"
          ],
          "name": "stdout"
        },
        {
          "output_type": "error",
          "ename": "KeyboardInterrupt",
          "evalue": "ignored",
          "traceback": [
            "\u001b[0;31m---------------------------------------------------------------------------\u001b[0m",
            "\u001b[0;31mKeyboardInterrupt\u001b[0m                         Traceback (most recent call last)",
            "\u001b[0;32m<ipython-input-33-7eeb0be99f48>\u001b[0m in \u001b[0;36m<module>\u001b[0;34m()\u001b[0m\n\u001b[1;32m     33\u001b[0m \u001b[0;34m\u001b[0m\u001b[0m\n\u001b[1;32m     34\u001b[0m \u001b[0;31m#Track tweets related to Musk\u001b[0m\u001b[0;34m\u001b[0m\u001b[0;34m\u001b[0m\u001b[0m\n\u001b[0;32m---> 35\u001b[0;31m \u001b[0mtwitterStream\u001b[0m\u001b[0;34m.\u001b[0m\u001b[0mfilter\u001b[0m\u001b[0;34m(\u001b[0m\u001b[0mtrack\u001b[0m\u001b[0;34m=\u001b[0m\u001b[0;34m[\u001b[0m\u001b[0;34m\"Musk\"\u001b[0m\u001b[0;34m]\u001b[0m\u001b[0;34m)\u001b[0m\u001b[0;34m\u001b[0m\u001b[0m\n\u001b[0m",
            "\u001b[0;32m/usr/local/lib/python3.6/dist-packages/tweepy/streaming.py\u001b[0m in \u001b[0;36mfilter\u001b[0;34m(self, follow, track, async, locations, stall_warnings, languages, encoding, filter_level)\u001b[0m\n\u001b[1;32m    448\u001b[0m         \u001b[0mself\u001b[0m\u001b[0;34m.\u001b[0m\u001b[0msession\u001b[0m\u001b[0;34m.\u001b[0m\u001b[0mparams\u001b[0m \u001b[0;34m=\u001b[0m \u001b[0;34m{\u001b[0m\u001b[0;34m'delimited'\u001b[0m\u001b[0;34m:\u001b[0m \u001b[0;34m'length'\u001b[0m\u001b[0;34m}\u001b[0m\u001b[0;34m\u001b[0m\u001b[0m\n\u001b[1;32m    449\u001b[0m         \u001b[0mself\u001b[0m\u001b[0;34m.\u001b[0m\u001b[0mhost\u001b[0m \u001b[0;34m=\u001b[0m \u001b[0;34m'stream.twitter.com'\u001b[0m\u001b[0;34m\u001b[0m\u001b[0m\n\u001b[0;32m--> 450\u001b[0;31m         \u001b[0mself\u001b[0m\u001b[0;34m.\u001b[0m\u001b[0m_start\u001b[0m\u001b[0;34m(\u001b[0m\u001b[0masync\u001b[0m\u001b[0;34m)\u001b[0m\u001b[0;34m\u001b[0m\u001b[0m\n\u001b[0m\u001b[1;32m    451\u001b[0m \u001b[0;34m\u001b[0m\u001b[0m\n\u001b[1;32m    452\u001b[0m     def sitestream(self, follow, stall_warnings=False,\n",
            "\u001b[0;32m/usr/local/lib/python3.6/dist-packages/tweepy/streaming.py\u001b[0m in \u001b[0;36m_start\u001b[0;34m(self, async)\u001b[0m\n\u001b[1;32m    362\u001b[0m             \u001b[0mself\u001b[0m\u001b[0;34m.\u001b[0m\u001b[0m_thread\u001b[0m\u001b[0;34m.\u001b[0m\u001b[0mstart\u001b[0m\u001b[0;34m(\u001b[0m\u001b[0;34m)\u001b[0m\u001b[0;34m\u001b[0m\u001b[0m\n\u001b[1;32m    363\u001b[0m         \u001b[0;32melse\u001b[0m\u001b[0;34m:\u001b[0m\u001b[0;34m\u001b[0m\u001b[0m\n\u001b[0;32m--> 364\u001b[0;31m             \u001b[0mself\u001b[0m\u001b[0;34m.\u001b[0m\u001b[0m_run\u001b[0m\u001b[0;34m(\u001b[0m\u001b[0;34m)\u001b[0m\u001b[0;34m\u001b[0m\u001b[0m\n\u001b[0m\u001b[1;32m    365\u001b[0m \u001b[0;34m\u001b[0m\u001b[0m\n\u001b[1;32m    366\u001b[0m     \u001b[0;32mdef\u001b[0m \u001b[0mon_closed\u001b[0m\u001b[0;34m(\u001b[0m\u001b[0mself\u001b[0m\u001b[0;34m,\u001b[0m \u001b[0mresp\u001b[0m\u001b[0;34m)\u001b[0m\u001b[0;34m:\u001b[0m\u001b[0;34m\u001b[0m\u001b[0m\n",
            "\u001b[0;32m/usr/local/lib/python3.6/dist-packages/tweepy/streaming.py\u001b[0m in \u001b[0;36m_run\u001b[0;34m(self)\u001b[0m\n\u001b[1;32m    264\u001b[0m                     \u001b[0mself\u001b[0m\u001b[0;34m.\u001b[0m\u001b[0msnooze_time\u001b[0m \u001b[0;34m=\u001b[0m \u001b[0mself\u001b[0m\u001b[0;34m.\u001b[0m\u001b[0msnooze_time_step\u001b[0m\u001b[0;34m\u001b[0m\u001b[0m\n\u001b[1;32m    265\u001b[0m                     \u001b[0mself\u001b[0m\u001b[0;34m.\u001b[0m\u001b[0mlistener\u001b[0m\u001b[0;34m.\u001b[0m\u001b[0mon_connect\u001b[0m\u001b[0;34m(\u001b[0m\u001b[0;34m)\u001b[0m\u001b[0;34m\u001b[0m\u001b[0m\n\u001b[0;32m--> 266\u001b[0;31m                     \u001b[0mself\u001b[0m\u001b[0;34m.\u001b[0m\u001b[0m_read_loop\u001b[0m\u001b[0;34m(\u001b[0m\u001b[0mresp\u001b[0m\u001b[0;34m)\u001b[0m\u001b[0;34m\u001b[0m\u001b[0m\n\u001b[0m\u001b[1;32m    267\u001b[0m             \u001b[0;32mexcept\u001b[0m \u001b[0;34m(\u001b[0m\u001b[0mTimeout\u001b[0m\u001b[0;34m,\u001b[0m \u001b[0mssl\u001b[0m\u001b[0;34m.\u001b[0m\u001b[0mSSLError\u001b[0m\u001b[0;34m)\u001b[0m \u001b[0;32mas\u001b[0m \u001b[0mexc\u001b[0m\u001b[0;34m:\u001b[0m\u001b[0;34m\u001b[0m\u001b[0m\n\u001b[1;32m    268\u001b[0m                 \u001b[0;31m# This is still necessary, as a SSLError can actually be\u001b[0m\u001b[0;34m\u001b[0m\u001b[0;34m\u001b[0m\u001b[0m\n",
            "\u001b[0;32m/usr/local/lib/python3.6/dist-packages/tweepy/streaming.py\u001b[0m in \u001b[0;36m_read_loop\u001b[0;34m(self, resp)\u001b[0m\n\u001b[1;32m    314\u001b[0m             \u001b[0mlength\u001b[0m \u001b[0;34m=\u001b[0m \u001b[0;36m0\u001b[0m\u001b[0;34m\u001b[0m\u001b[0m\n\u001b[1;32m    315\u001b[0m             \u001b[0;32mwhile\u001b[0m \u001b[0;32mnot\u001b[0m \u001b[0mresp\u001b[0m\u001b[0;34m.\u001b[0m\u001b[0mraw\u001b[0m\u001b[0;34m.\u001b[0m\u001b[0mclosed\u001b[0m\u001b[0;34m:\u001b[0m\u001b[0;34m\u001b[0m\u001b[0m\n\u001b[0;32m--> 316\u001b[0;31m                 \u001b[0mline\u001b[0m \u001b[0;34m=\u001b[0m \u001b[0mbuf\u001b[0m\u001b[0;34m.\u001b[0m\u001b[0mread_line\u001b[0m\u001b[0;34m(\u001b[0m\u001b[0;34m)\u001b[0m\u001b[0;34m.\u001b[0m\u001b[0mstrip\u001b[0m\u001b[0;34m(\u001b[0m\u001b[0;34m)\u001b[0m\u001b[0;34m\u001b[0m\u001b[0m\n\u001b[0m\u001b[1;32m    317\u001b[0m                 \u001b[0;32mif\u001b[0m \u001b[0;32mnot\u001b[0m \u001b[0mline\u001b[0m\u001b[0;34m:\u001b[0m\u001b[0;34m\u001b[0m\u001b[0m\n\u001b[1;32m    318\u001b[0m                     \u001b[0mself\u001b[0m\u001b[0;34m.\u001b[0m\u001b[0mlistener\u001b[0m\u001b[0;34m.\u001b[0m\u001b[0mkeep_alive\u001b[0m\u001b[0;34m(\u001b[0m\u001b[0;34m)\u001b[0m  \u001b[0;31m# keep-alive new lines are expected\u001b[0m\u001b[0;34m\u001b[0m\u001b[0m\n",
            "\u001b[0;32m/usr/local/lib/python3.6/dist-packages/tweepy/streaming.py\u001b[0m in \u001b[0;36mread_line\u001b[0;34m(self, sep)\u001b[0m\n\u001b[1;32m    179\u001b[0m             \u001b[0;32melse\u001b[0m\u001b[0;34m:\u001b[0m\u001b[0;34m\u001b[0m\u001b[0m\n\u001b[1;32m    180\u001b[0m                 \u001b[0mstart\u001b[0m \u001b[0;34m=\u001b[0m \u001b[0mlen\u001b[0m\u001b[0;34m(\u001b[0m\u001b[0mself\u001b[0m\u001b[0;34m.\u001b[0m\u001b[0m_buffer\u001b[0m\u001b[0;34m)\u001b[0m\u001b[0;34m\u001b[0m\u001b[0m\n\u001b[0;32m--> 181\u001b[0;31m             \u001b[0mself\u001b[0m\u001b[0;34m.\u001b[0m\u001b[0m_buffer\u001b[0m \u001b[0;34m+=\u001b[0m \u001b[0mself\u001b[0m\u001b[0;34m.\u001b[0m\u001b[0m_stream\u001b[0m\u001b[0;34m.\u001b[0m\u001b[0mread\u001b[0m\u001b[0;34m(\u001b[0m\u001b[0mself\u001b[0m\u001b[0;34m.\u001b[0m\u001b[0m_chunk_size\u001b[0m\u001b[0;34m)\u001b[0m\u001b[0;34m\u001b[0m\u001b[0m\n\u001b[0m\u001b[1;32m    182\u001b[0m         \u001b[0;32mreturn\u001b[0m \u001b[0msix\u001b[0m\u001b[0;34m.\u001b[0m\u001b[0mb\u001b[0m\u001b[0;34m(\u001b[0m\u001b[0;34m''\u001b[0m\u001b[0;34m)\u001b[0m\u001b[0;34m\u001b[0m\u001b[0m\n\u001b[1;32m    183\u001b[0m \u001b[0;34m\u001b[0m\u001b[0m\n",
            "\u001b[0;32m/usr/local/lib/python3.6/dist-packages/urllib3/response.py\u001b[0m in \u001b[0;36mread\u001b[0;34m(self, amt, decode_content, cache_content)\u001b[0m\n\u001b[1;32m    382\u001b[0m             \u001b[0;32melse\u001b[0m\u001b[0;34m:\u001b[0m\u001b[0;34m\u001b[0m\u001b[0m\n\u001b[1;32m    383\u001b[0m                 \u001b[0mcache_content\u001b[0m \u001b[0;34m=\u001b[0m \u001b[0;32mFalse\u001b[0m\u001b[0;34m\u001b[0m\u001b[0m\n\u001b[0;32m--> 384\u001b[0;31m                 \u001b[0mdata\u001b[0m \u001b[0;34m=\u001b[0m \u001b[0mself\u001b[0m\u001b[0;34m.\u001b[0m\u001b[0m_fp\u001b[0m\u001b[0;34m.\u001b[0m\u001b[0mread\u001b[0m\u001b[0;34m(\u001b[0m\u001b[0mamt\u001b[0m\u001b[0;34m)\u001b[0m\u001b[0;34m\u001b[0m\u001b[0m\n\u001b[0m\u001b[1;32m    385\u001b[0m                 \u001b[0;32mif\u001b[0m \u001b[0mamt\u001b[0m \u001b[0;34m!=\u001b[0m \u001b[0;36m0\u001b[0m \u001b[0;32mand\u001b[0m \u001b[0;32mnot\u001b[0m \u001b[0mdata\u001b[0m\u001b[0;34m:\u001b[0m  \u001b[0;31m# Platform-specific: Buggy versions of Python.\u001b[0m\u001b[0;34m\u001b[0m\u001b[0m\n\u001b[1;32m    386\u001b[0m                     \u001b[0;31m# Close the connection when no data is returned\u001b[0m\u001b[0;34m\u001b[0m\u001b[0;34m\u001b[0m\u001b[0m\n",
            "\u001b[0;32m/usr/lib/python3.6/http/client.py\u001b[0m in \u001b[0;36mread\u001b[0;34m(self, amt)\u001b[0m\n\u001b[1;32m    447\u001b[0m             \u001b[0;31m# Amount is given, implement using readinto\u001b[0m\u001b[0;34m\u001b[0m\u001b[0;34m\u001b[0m\u001b[0m\n\u001b[1;32m    448\u001b[0m             \u001b[0mb\u001b[0m \u001b[0;34m=\u001b[0m \u001b[0mbytearray\u001b[0m\u001b[0;34m(\u001b[0m\u001b[0mamt\u001b[0m\u001b[0;34m)\u001b[0m\u001b[0;34m\u001b[0m\u001b[0m\n\u001b[0;32m--> 449\u001b[0;31m             \u001b[0mn\u001b[0m \u001b[0;34m=\u001b[0m \u001b[0mself\u001b[0m\u001b[0;34m.\u001b[0m\u001b[0mreadinto\u001b[0m\u001b[0;34m(\u001b[0m\u001b[0mb\u001b[0m\u001b[0;34m)\u001b[0m\u001b[0;34m\u001b[0m\u001b[0m\n\u001b[0m\u001b[1;32m    450\u001b[0m             \u001b[0;32mreturn\u001b[0m \u001b[0mmemoryview\u001b[0m\u001b[0;34m(\u001b[0m\u001b[0mb\u001b[0m\u001b[0;34m)\u001b[0m\u001b[0;34m[\u001b[0m\u001b[0;34m:\u001b[0m\u001b[0mn\u001b[0m\u001b[0;34m]\u001b[0m\u001b[0;34m.\u001b[0m\u001b[0mtobytes\u001b[0m\u001b[0;34m(\u001b[0m\u001b[0;34m)\u001b[0m\u001b[0;34m\u001b[0m\u001b[0m\n\u001b[1;32m    451\u001b[0m         \u001b[0;32melse\u001b[0m\u001b[0;34m:\u001b[0m\u001b[0;34m\u001b[0m\u001b[0m\n",
            "\u001b[0;32m/usr/lib/python3.6/http/client.py\u001b[0m in \u001b[0;36mreadinto\u001b[0;34m(self, b)\u001b[0m\n\u001b[1;32m    481\u001b[0m \u001b[0;34m\u001b[0m\u001b[0m\n\u001b[1;32m    482\u001b[0m         \u001b[0;32mif\u001b[0m \u001b[0mself\u001b[0m\u001b[0;34m.\u001b[0m\u001b[0mchunked\u001b[0m\u001b[0;34m:\u001b[0m\u001b[0;34m\u001b[0m\u001b[0m\n\u001b[0;32m--> 483\u001b[0;31m             \u001b[0;32mreturn\u001b[0m \u001b[0mself\u001b[0m\u001b[0;34m.\u001b[0m\u001b[0m_readinto_chunked\u001b[0m\u001b[0;34m(\u001b[0m\u001b[0mb\u001b[0m\u001b[0;34m)\u001b[0m\u001b[0;34m\u001b[0m\u001b[0m\n\u001b[0m\u001b[1;32m    484\u001b[0m \u001b[0;34m\u001b[0m\u001b[0m\n\u001b[1;32m    485\u001b[0m         \u001b[0;32mif\u001b[0m \u001b[0mself\u001b[0m\u001b[0;34m.\u001b[0m\u001b[0mlength\u001b[0m \u001b[0;32mis\u001b[0m \u001b[0;32mnot\u001b[0m \u001b[0;32mNone\u001b[0m\u001b[0;34m:\u001b[0m\u001b[0;34m\u001b[0m\u001b[0m\n",
            "\u001b[0;32m/usr/lib/python3.6/http/client.py\u001b[0m in \u001b[0;36m_readinto_chunked\u001b[0;34m(self, b)\u001b[0m\n\u001b[1;32m    576\u001b[0m         \u001b[0;32mtry\u001b[0m\u001b[0;34m:\u001b[0m\u001b[0;34m\u001b[0m\u001b[0m\n\u001b[1;32m    577\u001b[0m             \u001b[0;32mwhile\u001b[0m \u001b[0;32mTrue\u001b[0m\u001b[0;34m:\u001b[0m\u001b[0;34m\u001b[0m\u001b[0m\n\u001b[0;32m--> 578\u001b[0;31m                 \u001b[0mchunk_left\u001b[0m \u001b[0;34m=\u001b[0m \u001b[0mself\u001b[0m\u001b[0;34m.\u001b[0m\u001b[0m_get_chunk_left\u001b[0m\u001b[0;34m(\u001b[0m\u001b[0;34m)\u001b[0m\u001b[0;34m\u001b[0m\u001b[0m\n\u001b[0m\u001b[1;32m    579\u001b[0m                 \u001b[0;32mif\u001b[0m \u001b[0mchunk_left\u001b[0m \u001b[0;32mis\u001b[0m \u001b[0;32mNone\u001b[0m\u001b[0;34m:\u001b[0m\u001b[0;34m\u001b[0m\u001b[0m\n\u001b[1;32m    580\u001b[0m                     \u001b[0;32mreturn\u001b[0m \u001b[0mtotal_bytes\u001b[0m\u001b[0;34m\u001b[0m\u001b[0m\n",
            "\u001b[0;32m/usr/lib/python3.6/http/client.py\u001b[0m in \u001b[0;36m_get_chunk_left\u001b[0;34m(self)\u001b[0m\n\u001b[1;32m    544\u001b[0m                 \u001b[0mself\u001b[0m\u001b[0;34m.\u001b[0m\u001b[0m_safe_read\u001b[0m\u001b[0;34m(\u001b[0m\u001b[0;36m2\u001b[0m\u001b[0;34m)\u001b[0m  \u001b[0;31m# toss the CRLF at the end of the chunk\u001b[0m\u001b[0;34m\u001b[0m\u001b[0m\n\u001b[1;32m    545\u001b[0m             \u001b[0;32mtry\u001b[0m\u001b[0;34m:\u001b[0m\u001b[0;34m\u001b[0m\u001b[0m\n\u001b[0;32m--> 546\u001b[0;31m                 \u001b[0mchunk_left\u001b[0m \u001b[0;34m=\u001b[0m \u001b[0mself\u001b[0m\u001b[0;34m.\u001b[0m\u001b[0m_read_next_chunk_size\u001b[0m\u001b[0;34m(\u001b[0m\u001b[0;34m)\u001b[0m\u001b[0;34m\u001b[0m\u001b[0m\n\u001b[0m\u001b[1;32m    547\u001b[0m             \u001b[0;32mexcept\u001b[0m \u001b[0mValueError\u001b[0m\u001b[0;34m:\u001b[0m\u001b[0;34m\u001b[0m\u001b[0m\n\u001b[1;32m    548\u001b[0m                 \u001b[0;32mraise\u001b[0m \u001b[0mIncompleteRead\u001b[0m\u001b[0;34m(\u001b[0m\u001b[0;34mb''\u001b[0m\u001b[0;34m)\u001b[0m\u001b[0;34m\u001b[0m\u001b[0m\n",
            "\u001b[0;32m/usr/lib/python3.6/http/client.py\u001b[0m in \u001b[0;36m_read_next_chunk_size\u001b[0;34m(self)\u001b[0m\n\u001b[1;32m    504\u001b[0m     \u001b[0;32mdef\u001b[0m \u001b[0m_read_next_chunk_size\u001b[0m\u001b[0;34m(\u001b[0m\u001b[0mself\u001b[0m\u001b[0;34m)\u001b[0m\u001b[0;34m:\u001b[0m\u001b[0;34m\u001b[0m\u001b[0m\n\u001b[1;32m    505\u001b[0m         \u001b[0;31m# Read the next chunk size from the file\u001b[0m\u001b[0;34m\u001b[0m\u001b[0;34m\u001b[0m\u001b[0m\n\u001b[0;32m--> 506\u001b[0;31m         \u001b[0mline\u001b[0m \u001b[0;34m=\u001b[0m \u001b[0mself\u001b[0m\u001b[0;34m.\u001b[0m\u001b[0mfp\u001b[0m\u001b[0;34m.\u001b[0m\u001b[0mreadline\u001b[0m\u001b[0;34m(\u001b[0m\u001b[0m_MAXLINE\u001b[0m \u001b[0;34m+\u001b[0m \u001b[0;36m1\u001b[0m\u001b[0;34m)\u001b[0m\u001b[0;34m\u001b[0m\u001b[0m\n\u001b[0m\u001b[1;32m    507\u001b[0m         \u001b[0;32mif\u001b[0m \u001b[0mlen\u001b[0m\u001b[0;34m(\u001b[0m\u001b[0mline\u001b[0m\u001b[0;34m)\u001b[0m \u001b[0;34m>\u001b[0m \u001b[0m_MAXLINE\u001b[0m\u001b[0;34m:\u001b[0m\u001b[0;34m\u001b[0m\u001b[0m\n\u001b[1;32m    508\u001b[0m             \u001b[0;32mraise\u001b[0m \u001b[0mLineTooLong\u001b[0m\u001b[0;34m(\u001b[0m\u001b[0;34m\"chunk size\"\u001b[0m\u001b[0;34m)\u001b[0m\u001b[0;34m\u001b[0m\u001b[0m\n",
            "\u001b[0;32m/usr/lib/python3.6/socket.py\u001b[0m in \u001b[0;36mreadinto\u001b[0;34m(self, b)\u001b[0m\n\u001b[1;32m    584\u001b[0m         \u001b[0;32mwhile\u001b[0m \u001b[0;32mTrue\u001b[0m\u001b[0;34m:\u001b[0m\u001b[0;34m\u001b[0m\u001b[0m\n\u001b[1;32m    585\u001b[0m             \u001b[0;32mtry\u001b[0m\u001b[0;34m:\u001b[0m\u001b[0;34m\u001b[0m\u001b[0m\n\u001b[0;32m--> 586\u001b[0;31m                 \u001b[0;32mreturn\u001b[0m \u001b[0mself\u001b[0m\u001b[0;34m.\u001b[0m\u001b[0m_sock\u001b[0m\u001b[0;34m.\u001b[0m\u001b[0mrecv_into\u001b[0m\u001b[0;34m(\u001b[0m\u001b[0mb\u001b[0m\u001b[0;34m)\u001b[0m\u001b[0;34m\u001b[0m\u001b[0m\n\u001b[0m\u001b[1;32m    587\u001b[0m             \u001b[0;32mexcept\u001b[0m \u001b[0mtimeout\u001b[0m\u001b[0;34m:\u001b[0m\u001b[0;34m\u001b[0m\u001b[0m\n\u001b[1;32m    588\u001b[0m                 \u001b[0mself\u001b[0m\u001b[0;34m.\u001b[0m\u001b[0m_timeout_occurred\u001b[0m \u001b[0;34m=\u001b[0m \u001b[0;32mTrue\u001b[0m\u001b[0;34m\u001b[0m\u001b[0m\n",
            "\u001b[0;32m/usr/lib/python3.6/ssl.py\u001b[0m in \u001b[0;36mrecv_into\u001b[0;34m(self, buffer, nbytes, flags)\u001b[0m\n\u001b[1;32m   1007\u001b[0m                   \u001b[0;34m\"non-zero flags not allowed in calls to recv_into() on %s\"\u001b[0m \u001b[0;34m%\u001b[0m\u001b[0;34m\u001b[0m\u001b[0m\n\u001b[1;32m   1008\u001b[0m                   self.__class__)\n\u001b[0;32m-> 1009\u001b[0;31m             \u001b[0;32mreturn\u001b[0m \u001b[0mself\u001b[0m\u001b[0;34m.\u001b[0m\u001b[0mread\u001b[0m\u001b[0;34m(\u001b[0m\u001b[0mnbytes\u001b[0m\u001b[0;34m,\u001b[0m \u001b[0mbuffer\u001b[0m\u001b[0;34m)\u001b[0m\u001b[0;34m\u001b[0m\u001b[0m\n\u001b[0m\u001b[1;32m   1010\u001b[0m         \u001b[0;32melse\u001b[0m\u001b[0;34m:\u001b[0m\u001b[0;34m\u001b[0m\u001b[0m\n\u001b[1;32m   1011\u001b[0m             \u001b[0;32mreturn\u001b[0m \u001b[0msocket\u001b[0m\u001b[0;34m.\u001b[0m\u001b[0mrecv_into\u001b[0m\u001b[0;34m(\u001b[0m\u001b[0mself\u001b[0m\u001b[0;34m,\u001b[0m \u001b[0mbuffer\u001b[0m\u001b[0;34m,\u001b[0m \u001b[0mnbytes\u001b[0m\u001b[0;34m,\u001b[0m \u001b[0mflags\u001b[0m\u001b[0;34m)\u001b[0m\u001b[0;34m\u001b[0m\u001b[0m\n",
            "\u001b[0;32m/usr/lib/python3.6/ssl.py\u001b[0m in \u001b[0;36mread\u001b[0;34m(self, len, buffer)\u001b[0m\n\u001b[1;32m    869\u001b[0m             \u001b[0;32mraise\u001b[0m \u001b[0mValueError\u001b[0m\u001b[0;34m(\u001b[0m\u001b[0;34m\"Read on closed or unwrapped SSL socket.\"\u001b[0m\u001b[0;34m)\u001b[0m\u001b[0;34m\u001b[0m\u001b[0m\n\u001b[1;32m    870\u001b[0m         \u001b[0;32mtry\u001b[0m\u001b[0;34m:\u001b[0m\u001b[0;34m\u001b[0m\u001b[0m\n\u001b[0;32m--> 871\u001b[0;31m             \u001b[0;32mreturn\u001b[0m \u001b[0mself\u001b[0m\u001b[0;34m.\u001b[0m\u001b[0m_sslobj\u001b[0m\u001b[0;34m.\u001b[0m\u001b[0mread\u001b[0m\u001b[0;34m(\u001b[0m\u001b[0mlen\u001b[0m\u001b[0;34m,\u001b[0m \u001b[0mbuffer\u001b[0m\u001b[0;34m)\u001b[0m\u001b[0;34m\u001b[0m\u001b[0m\n\u001b[0m\u001b[1;32m    872\u001b[0m         \u001b[0;32mexcept\u001b[0m \u001b[0mSSLError\u001b[0m \u001b[0;32mas\u001b[0m \u001b[0mx\u001b[0m\u001b[0;34m:\u001b[0m\u001b[0;34m\u001b[0m\u001b[0m\n\u001b[1;32m    873\u001b[0m             \u001b[0;32mif\u001b[0m \u001b[0mx\u001b[0m\u001b[0;34m.\u001b[0m\u001b[0margs\u001b[0m\u001b[0;34m[\u001b[0m\u001b[0;36m0\u001b[0m\u001b[0;34m]\u001b[0m \u001b[0;34m==\u001b[0m \u001b[0mSSL_ERROR_EOF\u001b[0m \u001b[0;32mand\u001b[0m \u001b[0mself\u001b[0m\u001b[0;34m.\u001b[0m\u001b[0msuppress_ragged_eofs\u001b[0m\u001b[0;34m:\u001b[0m\u001b[0;34m\u001b[0m\u001b[0m\n",
            "\u001b[0;32m/usr/lib/python3.6/ssl.py\u001b[0m in \u001b[0;36mread\u001b[0;34m(self, len, buffer)\u001b[0m\n\u001b[1;32m    629\u001b[0m         \"\"\"\n\u001b[1;32m    630\u001b[0m         \u001b[0;32mif\u001b[0m \u001b[0mbuffer\u001b[0m \u001b[0;32mis\u001b[0m \u001b[0;32mnot\u001b[0m \u001b[0;32mNone\u001b[0m\u001b[0;34m:\u001b[0m\u001b[0;34m\u001b[0m\u001b[0m\n\u001b[0;32m--> 631\u001b[0;31m             \u001b[0mv\u001b[0m \u001b[0;34m=\u001b[0m \u001b[0mself\u001b[0m\u001b[0;34m.\u001b[0m\u001b[0m_sslobj\u001b[0m\u001b[0;34m.\u001b[0m\u001b[0mread\u001b[0m\u001b[0;34m(\u001b[0m\u001b[0mlen\u001b[0m\u001b[0;34m,\u001b[0m \u001b[0mbuffer\u001b[0m\u001b[0;34m)\u001b[0m\u001b[0;34m\u001b[0m\u001b[0m\n\u001b[0m\u001b[1;32m    632\u001b[0m         \u001b[0;32melse\u001b[0m\u001b[0;34m:\u001b[0m\u001b[0;34m\u001b[0m\u001b[0m\n\u001b[1;32m    633\u001b[0m             \u001b[0mv\u001b[0m \u001b[0;34m=\u001b[0m \u001b[0mself\u001b[0m\u001b[0;34m.\u001b[0m\u001b[0m_sslobj\u001b[0m\u001b[0;34m.\u001b[0m\u001b[0mread\u001b[0m\u001b[0;34m(\u001b[0m\u001b[0mlen\u001b[0m\u001b[0;34m)\u001b[0m\u001b[0;34m\u001b[0m\u001b[0m\n",
            "\u001b[0;31mKeyboardInterrupt\u001b[0m: "
          ]
        }
      ]
    },
    {
      "metadata": {
        "id": "4heyC5fHgi8Q",
        "colab_type": "code",
        "colab": {
          "base_uri": "https://localhost:8080/",
          "height": 347
        },
        "outputId": "17dd3b1b-efb3-4435-f15d-f952c67ae73f"
      },
      "cell_type": "code",
      "source": [
        "###########Generate the animated plot#############\n",
        "#Import the respective classes\n",
        "import matplotlib.pyplot as plt\n",
        "import matplotlib.animation as animation\n",
        "from matplotlib import style\n",
        "import time\n",
        "\n",
        "#Apply the \"ggplot\" style sheet\n",
        "#More details: https://matplotlib.org/gallery/style_sheets/ggplot.html\n",
        "style.use(\"ggplot\")\n",
        "\n",
        "figure = plt.figure()\n",
        "#To the figure, add a 1 row X 1 column subspot\n",
        "#More details on subplot: https://matplotlib.org/api/pyplot_api.html#matplotlib.pyplot.subplot\n",
        "plotHandle = figure.add_subplot(1,1,1)\n",
        "\n",
        "def animate(i):\n",
        "    fetchlData = open(\"/tmp/twitter-out.txt\",\"r\").read()\n",
        "    dataArray = fetchlData.split('\\n')\n",
        "    xarray = []\n",
        "    yarray = []\n",
        "\n",
        "    xcord = 0\n",
        "    ycord = 0\n",
        "\n",
        "    for l in range(len(dataArray)):\n",
        "        xcord += 1\n",
        "        polarity = dataArray[l]\n",
        "        #print(float(polarity))\n",
        "        if len(dataArray[l])>1:\n",
        "            if float(polarity)>0.0:\n",
        "                ycord += 1\n",
        "                #print(y)\n",
        "            elif float(polarity)<0.0:\n",
        "                #print(y)\n",
        "                ycord -= 1\n",
        "\n",
        "        xarray.append(xcord)\n",
        "        yarray.append(ycord)\n",
        "        #print(l)\n",
        "\n",
        "    plotHandle.clear()\n",
        "    plotHandle.plot(xarray,yarray)\n",
        "\n",
        "\n",
        "ani = animation.FuncAnimation(figure, animate, frames=200, interval=20)\n",
        "plt.show()"
      ],
      "execution_count": 0,
      "outputs": [
        {
          "output_type": "display_data",
          "data": {
            "image/png": "[encoded data removed]",
            "text/plain": [
              "<matplotlib.figure.Figure at 0x7fb822f29a20>"
            ]
          },
          "metadata": {
            "tags": []
          }
        }
      ]
    }
  ]
}