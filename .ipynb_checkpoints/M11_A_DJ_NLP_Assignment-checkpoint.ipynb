{
  "nbformat": 4,
  "nbformat_minor": 0,
  "metadata": {
    "colab": {
      "name": "M11_A--DJ--NLP-Assignment.ipynb",
      "version": "0.3.2",
      "provenance": []
    },
    "kernelspec": {
      "name": "python3",
      "display_name": "Python 3"
    }
  },
  "cells": [
    {
      "cell_type": "markdown",
      "metadata": {
        "id": "view-in-github",
        "colab_type": "text"
      },
      "source": [
        "[View in Colaboratory](https://colab.research.google.com/github/schwaaweb/aimlds1_11-NLP/blob/master/M11_A_DJ_NLP_Assignment.ipynb)"
      ]
    },
    {
      "metadata": {
        "id": "B513-nWV9iSm",
        "colab_type": "text"
      },
      "cell_type": "markdown",
      "source": [
        "### Assignment: Natural Language Processing"
      ]
    },
    {
      "metadata": {
        "id": "Xo5zIUFW9tLl",
        "colab_type": "text"
      },
      "cell_type": "markdown",
      "source": [
        "In this assignment, you will work with a data set that contains restaurant reviews. You will use a Naive Bayes model to classify the reviews (positive or negative) based on the words in the review.  The main objective of this assignment is gauge the performance of a Naive Bayes model by using a confusion matrix; however in order to ascertain the efficiacy of the model, you will have to first train the Naive Bayes model with a portion (i.e. 70%) of the underlying data set and then test it against the remainder of the data set . Before you can train the model, you will have to go through a sequence of steps to get the data ready for training the model.\n",
        "\n",
        "Steps you may need to perform:\n",
        "\n",
        "**1) **Read in the list of restaurant reviews\n",
        "\n",
        "**2)** Convert the reviews into a list of tokens\n",
        "\n",
        "**3) **You will most likely have to eliminate stop words\n",
        "\n",
        "**4)** You may have to utilize stemming or lemmatization to determine the base form of the words\n",
        "\n",
        "**5) **You will have to vectorize the data (i.e. construct a document term/word matix) wherein select words from the reviews will constitute the columns of the matrix and the individual reviews will be part of the rows of the matrix\n",
        "\n",
        "**6) ** Create 'Train' and 'Test' data sets (i.e. 70% of the underlying data set will constitute the training set and 30% of the underlying data set will constitute the test set)\n",
        "\n",
        "**7)** Train a Naive Bayes model on the Train data set and test it against the test data set\n",
        "\n",
        "**8) **Construct a confusion matirx to gauge the performance of the model\n",
        "\n",
        "**Dataset**: https://www.dropbox.com/s/yl5r7kx9nq15gmi/Restaurant_Reviews.tsv?raw=1\n",
        "\n",
        "\n"
      ]
    },
    {
      "metadata": {
        "id": "1NaK0ilWEMaS",
        "colab_type": "code",
        "colab": {
          "base_uri": "https://localhost:8080/",
          "height": 365
        },
        "outputId": "920aabe5-89fe-43d3-d3d3-3d79d5a24b6c"
      },
      "cell_type": "code",
      "source": [
        "%%time\n",
        "!wget -c https://www.dropbox.com/s/yl5r7kx9nq15gmi/Restaurant_Reviews.tsv?raw=1 && mv Restaurant_Reviews.tsv?raw=1 Restaurant_Reviews.tsv && ls -lh *tsv"
      ],
      "execution_count": 0,
      "outputs": [
        {
          "output_type": "stream",
          "text": [
            "--2018-06-11 18:19:09--  https://www.dropbox.com/s/yl5r7kx9nq15gmi/Restaurant_Reviews.tsv?raw=1\n",
            "Resolving www.dropbox.com (www.dropbox.com)... 162.125.9.1, 2620:100:601f:1::a27d:901\n",
            "Connecting to www.dropbox.com (www.dropbox.com)|162.125.9.1|:443... connected.\n",
            "HTTP request sent, awaiting response... 302 Found\n",
            "Location: https://uc2e353d97345d63038644ff7327.dl.dropboxusercontent.com/cd/0/inline/AIkkZMOYMxM-qdXZS3te21BCA7nkEsiFG-z2xpKmDbwr4yHK042PLqJgCEabzalR1odcC2Gkqc8Wvl0khG3o0YtfXyHCPYUxwTkKAZkE7NQTqxr7jzWxldqWB93T2TqfL95kTG83Fp4M5dlORhBp5lc51_QZPy2uQkjNkUYM63gXx-YbHJS80ba00gzhafKTfbw/file [following]\n",
            "--2018-06-11 18:19:10--  https://uc2e353d97345d63038644ff7327.dl.dropboxusercontent.com/cd/0/inline/AIkkZMOYMxM-qdXZS3te21BCA7nkEsiFG-z2xpKmDbwr4yHK042PLqJgCEabzalR1odcC2Gkqc8Wvl0khG3o0YtfXyHCPYUxwTkKAZkE7NQTqxr7jzWxldqWB93T2TqfL95kTG83Fp4M5dlORhBp5lc51_QZPy2uQkjNkUYM63gXx-YbHJS80ba00gzhafKTfbw/file\n",
            "Resolving uc2e353d97345d63038644ff7327.dl.dropboxusercontent.com (uc2e353d97345d63038644ff7327.dl.dropboxusercontent.com)... 162.125.9.6, 2620:100:6031:6::a27d:5106\n",
            "Connecting to uc2e353d97345d63038644ff7327.dl.dropboxusercontent.com (uc2e353d97345d63038644ff7327.dl.dropboxusercontent.com)|162.125.9.6|:443... connected.\n",
            "HTTP request sent, awaiting response... 200 OK\n",
            "Length: 61332 (60K) [text/plain]\n",
            "Saving to: ‘Restaurant_Reviews.tsv?raw=1’\n",
            "\n",
            "Restaurant_Reviews. 100%[===================>]  59.89K  --.-KB/s    in 0.04s   \n",
            "\n",
            "2018-06-11 18:19:10 (1.43 MB/s) - ‘Restaurant_Reviews.tsv?raw=1’ saved [61332/61332]\n",
            "\n",
            "-rw-r--r-- 1 root root 60K Jun 11 18:19 Restaurant_Reviews.tsv\n",
            "CPU times: user 33 ms, sys: 21 ms, total: 54 ms\n",
            "Wall time: 2.36 s\n"
          ],
          "name": "stdout"
        }
      ]
    },
    {
      "metadata": {
        "id": "YoHyPk-JEprV",
        "colab_type": "code",
        "colab": {}
      },
      "cell_type": "code",
      "source": [
        ""
      ],
      "execution_count": 0,
      "outputs": []
    }
  ]
}