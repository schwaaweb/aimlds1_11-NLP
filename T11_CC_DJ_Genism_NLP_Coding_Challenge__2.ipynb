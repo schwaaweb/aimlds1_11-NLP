{
  "nbformat": 4,
  "nbformat_minor": 0,
  "metadata": {
    "colab": {
      "name": "T11_CC--DJ--Genism-NLP_Coding_Challenge_#2.ipynb",
      "version": "0.3.2",
      "provenance": [],
      "collapsed_sections": []
    },
    "kernelspec": {
      "name": "python3",
      "display_name": "Python 3"
    }
  },
  "cells": [
    {
      "cell_type": "markdown",
      "metadata": {
        "id": "view-in-github",
        "colab_type": "text"
      },
      "source": [
        "[View in Colaboratory](https://colab.research.google.com/github/schwaaweb/aimlds1_11-NLP/blob/master/T11_CC_DJ_Genism_NLP_Coding_Challenge__2.ipynb)"
      ]
    },
    {
      "metadata": {
        "id": "qd1ltfV8QShV",
        "colab_type": "text"
      },
      "cell_type": "markdown",
      "source": [
        "### Coding Challenge #2: Natural Language Processing"
      ]
    },
    {
      "metadata": {
        "id": "iWWDecybQ1zz",
        "colab_type": "text"
      },
      "cell_type": "markdown",
      "source": [
        "A common task in NLP is to determine the similarity between documents or words. In order to facilitate the comparison between documents or words, you will leverage the learnings from Coding Challenge #1 to create vectors. Once you have a document term matrix, comparisons are possible since you can measure the difference between the numbers.\n",
        "\n",
        "In this Coding Challenge, you will utilize the \"**Gensim**\" library, which is a free Python library to determine document similarity.\n",
        "\n",
        "**\"Gensim\" Reference**: https://radimrehurek.com/project/gensim/\n",
        "\n",
        "\n"
      ]
    },
    {
      "metadata": {
        "id": "c3hSkp0srSXR",
        "colab_type": "text"
      },
      "cell_type": "markdown",
      "source": [
        "**Install Gensim**:"
      ]
    },
    {
      "metadata": {
        "id": "tEPlGPVSrZv6",
        "colab_type": "code",
        "colab": {}
      },
      "cell_type": "code",
      "source": [
        "# https://radimrehurek.com/gensim/install.html\n",
        "!pip install --upgrade gensim"
      ],
      "execution_count": 0,
      "outputs": []
    },
    {
      "metadata": {
        "id": "56qjZ1IzsO54",
        "colab_type": "text"
      },
      "cell_type": "markdown",
      "source": [
        "**Install NLTK:**"
      ]
    },
    {
      "metadata": {
        "id": "kfVsL9M9sSMJ",
        "colab_type": "code",
        "colab": {}
      },
      "cell_type": "code",
      "source": [
        "# Import the NLTK package\n",
        "import nltk\n",
        "\n",
        "# Get all the data associated with NLTK – could take a while to download all the data\n",
        "nltk.download('all')"
      ],
      "execution_count": 0,
      "outputs": []
    },
    {
      "metadata": {
        "id": "CC68LogGscTI",
        "colab_type": "text"
      },
      "cell_type": "markdown",
      "source": [
        "**Import the requiste NLTK packages:**"
      ]
    },
    {
      "metadata": {
        "id": "lt_gawHGsbrB",
        "colab_type": "code",
        "colab": {}
      },
      "cell_type": "code",
      "source": [
        "#Import word tokenizer\n",
        "from nltk.tokenize import word_tokenize"
      ],
      "execution_count": 0,
      "outputs": []
    },
    {
      "metadata": {
        "id": "hj_FUsxPtDOI",
        "colab_type": "text"
      },
      "cell_type": "markdown",
      "source": [
        "**Dataset:**"
      ]
    },
    {
      "metadata": {
        "id": "kM4qHcNWs1__",
        "colab_type": "code",
        "colab": {}
      },
      "cell_type": "code",
      "source": [
        "#For the purposes of this challenge, each line represents a document. In all, there are 8 documents\n",
        "\n",
        "raw_documents = ['The dog ran up the steps and entered the owner\\'s room to check if the owner was in the room.',\n",
        "             'My name is Thomson Comer, commander of the Machine Learning program at Lambda school.',\n",
        "             'I am creating the curriculum for the Machine Learning program and will be teaching the full-time Machine Learning program.',\n",
        "            'Machine Learning is one of my favorite subjects.',\n",
        "            'I am excited about taking the Machine Learning class at the Lambda school starting in April.',\n",
        "                'When does the Machine Learning program kick-off at Lambda school?',\n",
        "                'The batter hit the ball out off AT&T park into the pacific ocean.',\n",
        "                'The pitcher threw the ball into the dug-out.']"
      ],
      "execution_count": 0,
      "outputs": []
    },
    {
      "metadata": {
        "id": "jKGw63jmrjLg",
        "colab_type": "text"
      },
      "cell_type": "markdown",
      "source": [
        "**Step #1**: **Create a document that contains a list of tokens**"
      ]
    },
    {
      "metadata": {
        "id": "fU5v8oM3t2nx",
        "colab_type": "code",
        "colab": {}
      },
      "cell_type": "code",
      "source": [
        "# Step 1"
      ],
      "execution_count": 0,
      "outputs": []
    },
    {
      "metadata": {
        "id": "JjAxAZXTt45S",
        "colab_type": "text"
      },
      "cell_type": "markdown",
      "source": [
        "**Step #2: Use the document to create a dictionary - a dictionary maps every word to a number**"
      ]
    },
    {
      "metadata": {
        "id": "p9w477lVuIfs",
        "colab_type": "code",
        "colab": {}
      },
      "cell_type": "code",
      "source": [
        "# Step 2"
      ],
      "execution_count": 0,
      "outputs": []
    },
    {
      "metadata": {
        "id": "5Q1E2EONvRlB",
        "colab_type": "text"
      },
      "cell_type": "markdown",
      "source": [
        "**Step #3: Convert the list of tokens from the document (created above in Step 1) into a bag of words. The bag of words highlights the term frequency i.e. each element in the bag of words is the index of the word in the dictionary and the # of times it occurs**\n",
        "\n"
      ]
    },
    {
      "metadata": {
        "id": "zfIFJT0Lv0an",
        "colab_type": "code",
        "colab": {}
      },
      "cell_type": "code",
      "source": [
        "# Step 3"
      ],
      "execution_count": 0,
      "outputs": []
    },
    {
      "metadata": {
        "id": "f9rsM5d1xH2T",
        "colab_type": "text"
      },
      "cell_type": "markdown",
      "source": [
        "**Step #4:  Use the \"*Gensim*\" library to create a TF-IDF module for the bag of words**"
      ]
    },
    {
      "metadata": {
        "id": "Tyg_GwYEekgH",
        "colab_type": "code",
        "colab": {}
      },
      "cell_type": "code",
      "source": [
        " # Step 4"
      ],
      "execution_count": 0,
      "outputs": []
    },
    {
      "metadata": {
        "id": "yfmg609ue5B0",
        "colab_type": "text"
      },
      "cell_type": "markdown",
      "source": [
        "**Step #5: a) Output the 5th document, b) Output the bag of words for the fifth document i.e. term frequency, c) Review the Inter Document Frequency (IDF) for each term in the bag of words for the 5th document**"
      ]
    },
    {
      "metadata": {
        "id": "C330my8hfokU",
        "colab_type": "code",
        "colab": {}
      },
      "cell_type": "code",
      "source": [
        "# Step 5"
      ],
      "execution_count": 0,
      "outputs": []
    },
    {
      "metadata": {
        "id": "7hP1HRC-gUEf",
        "colab_type": "text"
      },
      "cell_type": "markdown",
      "source": [
        "**Step #6: Determine document similarity** -  Identify the most similar document and the least similar document to the body of text below.\n",
        "\n",
        "*Good Reference for review*: https://radimrehurek.com/gensim/similarities/docsim.html"
      ]
    },
    {
      "metadata": {
        "id": "VVyDyZ9ThkGI",
        "colab_type": "code",
        "colab": {}
      },
      "cell_type": "code",
      "source": [
        "# Step 6\n",
        "\n",
        "# Document to  compare: \"Machine Learning at Lambda school is awesome\""
      ],
      "execution_count": 0,
      "outputs": []
    }
  ]
}